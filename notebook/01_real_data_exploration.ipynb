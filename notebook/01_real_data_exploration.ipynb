{
 "cells": [
  {
   "cell_type": "code",
   "execution_count": 2,
   "id": "a57b485e",
   "metadata": {},
   "outputs": [
    {
     "name": "stdout",
     "output_type": "stream",
     "text": [
      "                  측정시간  현재기온  현재습도  현재풍속  1시간뒤기온\n",
      "0  2025-05-26 17:05:09  22.9  45.0   2.0    21.0\n",
      "1  2025-05-26 17:05:14  22.9  45.0   2.0    21.0\n",
      "2  2025-05-26 17:05:19  22.9  45.0   2.0    21.0\n",
      "Index(['측정시간', '현재기온', '현재습도', '현재풍속', '1시간뒤기온'], dtype='object')\n"
     ]
    }
   ],
   "source": [
    "import pandas as pd\n",
    "\n",
    "file_path = '../data/collected_weather_data.csv'\n",
    "\n",
    "df = pd.read_csv(file_path)\n",
    "\n",
    "print(df.head())\n",
    "print(df.columns)\n"
   ]
  },
  {
   "cell_type": "code",
   "execution_count": null,
   "id": "71fbfb4e",
   "metadata": {},
   "outputs": [],
   "source": []
  },
  {
   "cell_type": "code",
   "execution_count": 3,
   "id": "50f86b35",
   "metadata": {},
   "outputs": [
    {
     "name": "stdout",
     "output_type": "stream",
     "text": [
      "측정시간      0\n",
      "현재기온      0\n",
      "현재습도      0\n",
      "현재풍속      0\n",
      "1시간뒤기온    0\n",
      "dtype: int64\n",
      "               현재기온  현재습도  현재풍속  1시간뒤기온\n",
      "count  3.000000e+00   3.0   3.0     3.0\n",
      "mean   2.290000e+01  45.0   2.0    21.0\n",
      "std    4.351168e-15   0.0   0.0     0.0\n",
      "min    2.290000e+01  45.0   2.0    21.0\n",
      "25%    2.290000e+01  45.0   2.0    21.0\n",
      "50%    2.290000e+01  45.0   2.0    21.0\n",
      "75%    2.290000e+01  45.0   2.0    21.0\n",
      "max    2.290000e+01  45.0   2.0    21.0\n"
     ]
    }
   ],
   "source": [
    "print(df.isnull().sum())\n",
    "print(df.describe())"
   ]
  },
  {
   "cell_type": "markdown",
   "id": "b53e65df",
   "metadata": {},
   "source": [
    "## 머신러닝 학습 준비"
   ]
  },
  {
   "cell_type": "code",
   "execution_count": 4,
   "id": "4766acd7",
   "metadata": {
    "vscode": {
     "languageId": "ini"
    }
   },
   "outputs": [
    {
     "name": "stdout",
     "output_type": "stream",
     "text": [
      "Converted '측정시간' to datetime format.\n",
      "<class 'pandas.core.frame.DataFrame'>\n",
      "RangeIndex: 3 entries, 0 to 2\n",
      "Data columns (total 5 columns):\n",
      " #   Column  Non-Null Count  Dtype         \n",
      "---  ------  --------------  -----         \n",
      " 0   측정시간    3 non-null      datetime64[ns]\n",
      " 1   현재기온    3 non-null      float64       \n",
      " 2   현재습도    3 non-null      float64       \n",
      " 3   현재풍속    3 non-null      float64       \n",
      " 4   1시간뒤기온  3 non-null      float64       \n",
      "dtypes: datetime64[ns](1), float64(4)\n",
      "memory usage: 252.0 bytes\n",
      "None\n"
     ]
    }
   ],
   "source": [
    "# 측정시간 데이터 타입을 날짜 형식으로 수정\n",
    "if df['측정시간'].dtype == 'object':\n",
    "    df['측정시간'] = pd.to_datetime(df['측정시간'])\n",
    "    print(\"Converted '측정시간' to datetime format.\")\n",
    "    print(df.info())"
   ]
  },
  {
   "cell_type": "code",
   "execution_count": 7,
   "id": "6021329e",
   "metadata": {},
   "outputs": [
    {
     "name": "stdout",
     "output_type": "stream",
     "text": [
      "added 시각 feature\n",
      "                 측정시간  시각\n",
      "0 2025-05-26 17:05:09  17\n",
      "1 2025-05-26 17:05:14  17\n",
      "2 2025-05-26 17:05:19  17\n"
     ]
    }
   ],
   "source": [
    "# 피쳐 추가: 시각\n",
    "\n",
    "df['시각'] = df['측정시간'].dt.hour\n",
    "print(\"added 시각 feature\")\n",
    "print(df[['측정시간','시각']].head())"
   ]
  },
  {
   "cell_type": "code",
   "execution_count": 8,
   "id": "26bbea84",
   "metadata": {},
   "outputs": [
    {
     "data": {
      "text/html": [
       "<div>\n",
       "<style scoped>\n",
       "    .dataframe tbody tr th:only-of-type {\n",
       "        vertical-align: middle;\n",
       "    }\n",
       "\n",
       "    .dataframe tbody tr th {\n",
       "        vertical-align: top;\n",
       "    }\n",
       "\n",
       "    .dataframe thead th {\n",
       "        text-align: right;\n",
       "    }\n",
       "</style>\n",
       "<table border=\"1\" class=\"dataframe\">\n",
       "  <thead>\n",
       "    <tr style=\"text-align: right;\">\n",
       "      <th></th>\n",
       "      <th>측정시간</th>\n",
       "      <th>현재기온</th>\n",
       "      <th>현재습도</th>\n",
       "      <th>현재풍속</th>\n",
       "      <th>1시간뒤기온</th>\n",
       "      <th>시각</th>\n",
       "    </tr>\n",
       "  </thead>\n",
       "  <tbody>\n",
       "    <tr>\n",
       "      <th>0</th>\n",
       "      <td>2025-05-26 17:05:09</td>\n",
       "      <td>22.9</td>\n",
       "      <td>45.0</td>\n",
       "      <td>2.0</td>\n",
       "      <td>21.0</td>\n",
       "      <td>17</td>\n",
       "    </tr>\n",
       "    <tr>\n",
       "      <th>1</th>\n",
       "      <td>2025-05-26 17:05:14</td>\n",
       "      <td>22.9</td>\n",
       "      <td>45.0</td>\n",
       "      <td>2.0</td>\n",
       "      <td>21.0</td>\n",
       "      <td>17</td>\n",
       "    </tr>\n",
       "    <tr>\n",
       "      <th>2</th>\n",
       "      <td>2025-05-26 17:05:19</td>\n",
       "      <td>22.9</td>\n",
       "      <td>45.0</td>\n",
       "      <td>2.0</td>\n",
       "      <td>21.0</td>\n",
       "      <td>17</td>\n",
       "    </tr>\n",
       "  </tbody>\n",
       "</table>\n",
       "</div>"
      ],
      "text/plain": [
       "                 측정시간  현재기온  현재습도  현재풍속  1시간뒤기온  시각\n",
       "0 2025-05-26 17:05:09  22.9  45.0   2.0    21.0  17\n",
       "1 2025-05-26 17:05:14  22.9  45.0   2.0    21.0  17\n",
       "2 2025-05-26 17:05:19  22.9  45.0   2.0    21.0  17"
      ]
     },
     "execution_count": 8,
     "metadata": {},
     "output_type": "execute_result"
    }
   ],
   "source": [
    "df"
   ]
  },
  {
   "cell_type": "code",
   "execution_count": 9,
   "id": "94dab4e4",
   "metadata": {},
   "outputs": [
    {
     "name": "stdout",
     "output_type": "stream",
     "text": [
      "입력 피쳐 X: \n",
      "   현재기온  현재습도  현재풍속  시각\n",
      "0  22.9  45.0   2.0  17\n",
      "1  22.9  45.0   2.0  17\n",
      "2  22.9  45.0   2.0  17\n",
      "타겟 피쳐 y: \n",
      "0    21.0\n",
      "1    21.0\n",
      "2    21.0\n",
      "Name: 1시간뒤기온, dtype: float64\n"
     ]
    }
   ],
   "source": [
    "feature_cols = ['현재기온', '현재습도', '현재풍속', '시각']\n",
    "\n",
    "target_col = '1시간뒤기온'\n",
    "required_cols = feature_cols + [target_col]\n",
    "\n",
    "X = df[feature_cols]\n",
    "y = df[target_col]\n",
    "\n",
    "print(\"입력 피쳐 X: \")\n",
    "print(X.head())\n",
    "print(\"타겟 피쳐 y: \")\n",
    "print(y.head())\n",
    "\n"
   ]
  },
  {
   "cell_type": "code",
   "execution_count": 11,
   "id": "c1f44c8e",
   "metadata": {},
   "outputs": [
    {
     "name": "stdout",
     "output_type": "stream",
     "text": [
      "모델 학습 완료\n",
      "예측 결과:\n",
      "[21. 21. 21.]\n",
      "모델이 temperature_model.pkl에 저장되었습니다.\n"
     ]
    }
   ],
   "source": [
    "# 데이터가 3줄밖에 안되니까 데이터 누수 생각 안하고 선형회귀 돌려보기\n",
    "\n",
    "from sklearn.linear_model import LinearRegression\n",
    "import pickle\n",
    "\n",
    "model = LinearRegression()\n",
    "\n",
    "model.fit(X, y)\n",
    "print(\"모델 학습 완료\")\n",
    "\n",
    "predictions = model.predict(X)\n",
    "print(\"예측 결과:\")\n",
    "print(predictions)\n",
    "\n",
    "model_filename = 'temperature_model.pkl'\n",
    "with open(model_filename, 'wb') as f:\n",
    "    pickle.dump(model, f)\n",
    "print(f\"모델이 {model_filename}에 저장되었습니다.\")\n"
   ]
  },
  {
   "cell_type": "code",
   "execution_count": null,
   "id": "451d533d",
   "metadata": {},
   "outputs": [],
   "source": []
  },
  {
   "cell_type": "code",
   "execution_count": null,
   "id": "a5357f1e",
   "metadata": {},
   "outputs": [],
   "source": []
  },
  {
   "cell_type": "code",
   "execution_count": null,
   "id": "e734c289",
   "metadata": {},
   "outputs": [],
   "source": []
  },
  {
   "cell_type": "code",
   "execution_count": null,
   "id": "a81c792f",
   "metadata": {},
   "outputs": [],
   "source": []
  },
  {
   "cell_type": "code",
   "execution_count": null,
   "id": "c04e03b5",
   "metadata": {},
   "outputs": [],
   "source": []
  },
  {
   "cell_type": "code",
   "execution_count": null,
   "id": "0e9033c1",
   "metadata": {},
   "outputs": [],
   "source": []
  }
 ],
 "metadata": {
  "kernelspec": {
   "display_name": ".venv",
   "language": "python",
   "name": "python3"
  },
  "language_info": {
   "codemirror_mode": {
    "name": "ipython",
    "version": 3
   },
   "file_extension": ".py",
   "mimetype": "text/x-python",
   "name": "python",
   "nbconvert_exporter": "python",
   "pygments_lexer": "ipython3",
   "version": "3.13.3"
  }
 },
 "nbformat": 4,
 "nbformat_minor": 5
}
