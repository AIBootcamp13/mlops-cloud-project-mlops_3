{
 "cells": [
  {
   "cell_type": "code",
   "execution_count": 2,
   "id": "6c2d36de",
   "metadata": {},
   "outputs": [
    {
     "name": "stdout",
     "output_type": "stream",
     "text": [
      "Loaded environment variables from /Users/jungminhong/Documents/test/mlops_fork_0528/mlops_team/../.env\n"
     ]
    }
   ],
   "source": [
    "import os\n",
    "import pandas as pd\n",
    "from dotenv import load_dotenv\n",
    "# import s3fs \n",
    "\n",
    "dotenf_path = os.path.join(os.path.dirname(os.getcwd()), '../.env')\n",
    "if os.path.exists(dotenf_path):\n",
    "    load_dotenv(dotenf_path)\n",
    "    print(f\"Loaded environment variables from {dotenf_path}\")\n",
    "else:\n",
    "    print(f\"Warning: .env file not found \")\n"
   ]
  },
  {
   "cell_type": "code",
   "execution_count": null,
   "id": "b7512174",
   "metadata": {},
   "outputs": [
    {
     "name": "stdout",
     "output_type": "stream",
     "text": [
      "AWS_ACCESS_KEY_ID: AKIA4...\n",
      "AWS_SECRET_ACCESS_KEY: 5JDmV...\n",
      "S3_BUCKET_NAME: mlops-prj\n"
     ]
    }
   ],
   "source": [
    "# 혹시 몰라서 AWS 관련 환경변수들이 설정되어 있는지 확인\n",
    "\n",
    "print(f\"AWS_ACCESS_KEY_ID: {os.getenv('AWS_ACCESS_KEY_ID')[:5]}...\") \n",
    "print(f\"AWS_SECRET_ACCESS_KEY: {os.getenv('AWS_SECRET_ACCESS_KEY')[:5]}...\")\n",
    "print(f\"S3_BUCKET_NAME: {os.getenv('S3_BUCKET_NAME')}\")\n"
   ]
  },
  {
   "cell_type": "code",
   "execution_count": 4,
   "id": "c1744ef3",
   "metadata": {},
   "outputs": [
    {
     "name": "stdout",
     "output_type": "stream",
     "text": [
      "\n",
      "S3에서 다음 Parquet 파일을 읽어옵니다: s3://mlops-prj/data/weather/preprocess/v1.0.0/2003.07.05_0000_2025.05.29_1800.parquet\n"
     ]
    }
   ],
   "source": [
    "s3_parquet_path = \"s3://mlops-prj/data/weather/preprocess/v1.0.0/2003.07.05_0000_2025.05.29_1800.parquet\"\n",
    "print(f\"\\nS3에서 다음 Parquet 파일을 읽어옵니다: {s3_parquet_path}\")"
   ]
  },
  {
   "cell_type": "code",
   "execution_count": null,
   "id": "8b22469b",
   "metadata": {},
   "outputs": [
    {
     "name": "stdout",
     "output_type": "stream",
     "text": [
      "successfully read the Parquet file from S3.\n"
     ]
    }
   ],
   "source": [
    "df = pd.read_parquet(s3_parquet_path)  \n",
    "print(\"successfully read the Parquet file from S3.\")"
   ]
  },
  {
   "cell_type": "code",
   "execution_count": 19,
   "id": "7a7a3be8",
   "metadata": {},
   "outputs": [
    {
     "data": {
      "text/html": [
       "<div>\n",
       "<style scoped>\n",
       "    .dataframe tbody tr th:only-of-type {\n",
       "        vertical-align: middle;\n",
       "    }\n",
       "\n",
       "    .dataframe tbody tr th {\n",
       "        vertical-align: top;\n",
       "    }\n",
       "\n",
       "    .dataframe thead th {\n",
       "        text-align: right;\n",
       "    }\n",
       "</style>\n",
       "<table border=\"1\" class=\"dataframe\">\n",
       "  <thead>\n",
       "    <tr style=\"text-align: right;\">\n",
       "      <th></th>\n",
       "      <th>ObservationTime</th>\n",
       "      <th>StationID</th>\n",
       "      <th>WindDirection</th>\n",
       "      <th>WindSpeed</th>\n",
       "      <th>GustDirection</th>\n",
       "      <th>GustSpeed</th>\n",
       "      <th>GustTime</th>\n",
       "      <th>LocalPressure</th>\n",
       "      <th>SeaLevelPressure</th>\n",
       "      <th>PressureTrend</th>\n",
       "      <th>...</th>\n",
       "      <th>SoilTemperature30cm</th>\n",
       "      <th>SeaCondition</th>\n",
       "      <th>WaveHeight</th>\n",
       "      <th>MaxWindForce</th>\n",
       "      <th>PrecipitationData</th>\n",
       "      <th>ObservationType</th>\n",
       "      <th>year</th>\n",
       "      <th>month</th>\n",
       "      <th>day</th>\n",
       "      <th>hour</th>\n",
       "    </tr>\n",
       "  </thead>\n",
       "  <tbody>\n",
       "    <tr>\n",
       "      <th>0</th>\n",
       "      <td>2003-07-05 00:00:00</td>\n",
       "      <td>108</td>\n",
       "      <td>5</td>\n",
       "      <td>0.7</td>\n",
       "      <td>-9</td>\n",
       "      <td>-9.0</td>\n",
       "      <td>-9</td>\n",
       "      <td>994.6</td>\n",
       "      <td>1004.4</td>\n",
       "      <td>8</td>\n",
       "      <td>...</td>\n",
       "      <td>-99.0</td>\n",
       "      <td>-9</td>\n",
       "      <td>-9.0</td>\n",
       "      <td>-9</td>\n",
       "      <td>3</td>\n",
       "      <td>2</td>\n",
       "      <td>2003</td>\n",
       "      <td>7</td>\n",
       "      <td>5</td>\n",
       "      <td>0</td>\n",
       "    </tr>\n",
       "    <tr>\n",
       "      <th>1</th>\n",
       "      <td>2003-07-05 01:00:00</td>\n",
       "      <td>108</td>\n",
       "      <td>2</td>\n",
       "      <td>0.3</td>\n",
       "      <td>-9</td>\n",
       "      <td>-9.0</td>\n",
       "      <td>-9</td>\n",
       "      <td>-9.0</td>\n",
       "      <td>-9.0</td>\n",
       "      <td>-9</td>\n",
       "      <td>...</td>\n",
       "      <td>-99.0</td>\n",
       "      <td>-9</td>\n",
       "      <td>-9.0</td>\n",
       "      <td>-9</td>\n",
       "      <td>3</td>\n",
       "      <td>-9</td>\n",
       "      <td>2003</td>\n",
       "      <td>7</td>\n",
       "      <td>5</td>\n",
       "      <td>1</td>\n",
       "    </tr>\n",
       "    <tr>\n",
       "      <th>2</th>\n",
       "      <td>2003-07-05 02:00:00</td>\n",
       "      <td>108</td>\n",
       "      <td>5</td>\n",
       "      <td>0.3</td>\n",
       "      <td>-9</td>\n",
       "      <td>-9.0</td>\n",
       "      <td>-9</td>\n",
       "      <td>-9.0</td>\n",
       "      <td>-9.0</td>\n",
       "      <td>-9</td>\n",
       "      <td>...</td>\n",
       "      <td>-99.0</td>\n",
       "      <td>-9</td>\n",
       "      <td>-9.0</td>\n",
       "      <td>-9</td>\n",
       "      <td>3</td>\n",
       "      <td>-9</td>\n",
       "      <td>2003</td>\n",
       "      <td>7</td>\n",
       "      <td>5</td>\n",
       "      <td>2</td>\n",
       "    </tr>\n",
       "  </tbody>\n",
       "</table>\n",
       "<p>3 rows × 50 columns</p>\n",
       "</div>"
      ],
      "text/plain": [
       "      ObservationTime  StationID  WindDirection  WindSpeed  GustDirection  \\\n",
       "0 2003-07-05 00:00:00        108              5        0.7             -9   \n",
       "1 2003-07-05 01:00:00        108              2        0.3             -9   \n",
       "2 2003-07-05 02:00:00        108              5        0.3             -9   \n",
       "\n",
       "   GustSpeed  GustTime  LocalPressure  SeaLevelPressure  PressureTrend  ...  \\\n",
       "0       -9.0        -9          994.6            1004.4              8  ...   \n",
       "1       -9.0        -9           -9.0              -9.0             -9  ...   \n",
       "2       -9.0        -9           -9.0              -9.0             -9  ...   \n",
       "\n",
       "   SoilTemperature30cm  SeaCondition  WaveHeight  MaxWindForce  \\\n",
       "0                -99.0            -9        -9.0            -9   \n",
       "1                -99.0            -9        -9.0            -9   \n",
       "2                -99.0            -9        -9.0            -9   \n",
       "\n",
       "   PrecipitationData  ObservationType  year  month  day  hour  \n",
       "0                  3                2  2003      7    5     0  \n",
       "1                  3               -9  2003      7    5     1  \n",
       "2                  3               -9  2003      7    5     2  \n",
       "\n",
       "[3 rows x 50 columns]"
      ]
     },
     "execution_count": 19,
     "metadata": {},
     "output_type": "execute_result"
    }
   ],
   "source": [
    "df.head(3)  \n"
   ]
  },
  {
   "cell_type": "code",
   "execution_count": 20,
   "id": "5f2b5a5e",
   "metadata": {},
   "outputs": [
    {
     "data": {
      "text/plain": [
       "Index(['ObservationTime', 'StationID', 'WindDirection', 'WindSpeed',\n",
       "       'GustDirection', 'GustSpeed', 'GustTime', 'LocalPressure',\n",
       "       'SeaLevelPressure', 'PressureTrend', 'PressureChange', '기온', '이슬점온도',\n",
       "       '상대습도', 'VaporPressure', '시간당강수량', 'DailyRainfall',\n",
       "       'CumulativeRainfall', '강수강도', '3시간신적설', 'DailySnowDepth',\n",
       "       'TotalSnowDepth', '현재날씨코드', 'PastWeatherCode', 'WeatherCode',\n",
       "       'TotalCloudCover', 'MidLowCloudCover', 'LowestCloudHeight', 'CloudType',\n",
       "       'UpperCloudType', 'MidCloudType', 'LowCloudType', 'Visibility',\n",
       "       'SunshineDuration', '일사량', 'GroundCondition', 'GroundTemperature',\n",
       "       'SoilTemperature5cm', 'SoilTemperature10cm', 'SoilTemperature20cm',\n",
       "       'SoilTemperature30cm', 'SeaCondition', 'WaveHeight', 'MaxWindForce',\n",
       "       'PrecipitationData', 'ObservationType', 'year', 'month', 'day', 'hour'],\n",
       "      dtype='object')"
      ]
     },
     "execution_count": 20,
     "metadata": {},
     "output_type": "execute_result"
    }
   ],
   "source": [
    "df.columns"
   ]
  },
  {
   "cell_type": "code",
   "execution_count": 22,
   "id": "8467a25d",
   "metadata": {},
   "outputs": [
    {
     "data": {
      "text/plain": [
       "(1326, 50)"
      ]
     },
     "execution_count": 22,
     "metadata": {},
     "output_type": "execute_result"
    }
   ],
   "source": [
    "df.shape"
   ]
  },
  {
   "cell_type": "code",
   "execution_count": null,
   "id": "1d9016d1",
   "metadata": {},
   "outputs": [],
   "source": []
  },
  {
   "cell_type": "code",
   "execution_count": 21,
   "id": "6f99fc43",
   "metadata": {},
   "outputs": [
    {
     "data": {
      "text/html": [
       "<div>\n",
       "<style scoped>\n",
       "    .dataframe tbody tr th:only-of-type {\n",
       "        vertical-align: middle;\n",
       "    }\n",
       "\n",
       "    .dataframe tbody tr th {\n",
       "        vertical-align: top;\n",
       "    }\n",
       "\n",
       "    .dataframe thead th {\n",
       "        text-align: right;\n",
       "    }\n",
       "</style>\n",
       "<table border=\"1\" class=\"dataframe\">\n",
       "  <thead>\n",
       "    <tr style=\"text-align: right;\">\n",
       "      <th></th>\n",
       "      <th>year</th>\n",
       "      <th>month</th>\n",
       "      <th>day</th>\n",
       "      <th>hour</th>\n",
       "      <th>ObservationTime</th>\n",
       "    </tr>\n",
       "  </thead>\n",
       "  <tbody>\n",
       "    <tr>\n",
       "      <th>0</th>\n",
       "      <td>2003</td>\n",
       "      <td>7</td>\n",
       "      <td>5</td>\n",
       "      <td>0</td>\n",
       "      <td>2003-07-05 00:00:00</td>\n",
       "    </tr>\n",
       "    <tr>\n",
       "      <th>1</th>\n",
       "      <td>2003</td>\n",
       "      <td>7</td>\n",
       "      <td>5</td>\n",
       "      <td>1</td>\n",
       "      <td>2003-07-05 01:00:00</td>\n",
       "    </tr>\n",
       "    <tr>\n",
       "      <th>2</th>\n",
       "      <td>2003</td>\n",
       "      <td>7</td>\n",
       "      <td>5</td>\n",
       "      <td>2</td>\n",
       "      <td>2003-07-05 02:00:00</td>\n",
       "    </tr>\n",
       "    <tr>\n",
       "      <th>3</th>\n",
       "      <td>2003</td>\n",
       "      <td>7</td>\n",
       "      <td>5</td>\n",
       "      <td>3</td>\n",
       "      <td>2003-07-05 03:00:00</td>\n",
       "    </tr>\n",
       "    <tr>\n",
       "      <th>4</th>\n",
       "      <td>2003</td>\n",
       "      <td>7</td>\n",
       "      <td>5</td>\n",
       "      <td>4</td>\n",
       "      <td>2003-07-05 04:00:00</td>\n",
       "    </tr>\n",
       "    <tr>\n",
       "      <th>...</th>\n",
       "      <td>...</td>\n",
       "      <td>...</td>\n",
       "      <td>...</td>\n",
       "      <td>...</td>\n",
       "      <td>...</td>\n",
       "    </tr>\n",
       "    <tr>\n",
       "      <th>1321</th>\n",
       "      <td>2025</td>\n",
       "      <td>5</td>\n",
       "      <td>29</td>\n",
       "      <td>14</td>\n",
       "      <td>2025-05-29 14:00:00</td>\n",
       "    </tr>\n",
       "    <tr>\n",
       "      <th>1322</th>\n",
       "      <td>2025</td>\n",
       "      <td>5</td>\n",
       "      <td>29</td>\n",
       "      <td>15</td>\n",
       "      <td>2025-05-29 15:00:00</td>\n",
       "    </tr>\n",
       "    <tr>\n",
       "      <th>1323</th>\n",
       "      <td>2025</td>\n",
       "      <td>5</td>\n",
       "      <td>29</td>\n",
       "      <td>16</td>\n",
       "      <td>2025-05-29 16:00:00</td>\n",
       "    </tr>\n",
       "    <tr>\n",
       "      <th>1324</th>\n",
       "      <td>2025</td>\n",
       "      <td>5</td>\n",
       "      <td>29</td>\n",
       "      <td>17</td>\n",
       "      <td>2025-05-29 17:00:00</td>\n",
       "    </tr>\n",
       "    <tr>\n",
       "      <th>1325</th>\n",
       "      <td>2025</td>\n",
       "      <td>5</td>\n",
       "      <td>29</td>\n",
       "      <td>18</td>\n",
       "      <td>2025-05-29 18:00:00</td>\n",
       "    </tr>\n",
       "  </tbody>\n",
       "</table>\n",
       "<p>1326 rows × 5 columns</p>\n",
       "</div>"
      ],
      "text/plain": [
       "      year  month  day  hour     ObservationTime\n",
       "0     2003      7    5     0 2003-07-05 00:00:00\n",
       "1     2003      7    5     1 2003-07-05 01:00:00\n",
       "2     2003      7    5     2 2003-07-05 02:00:00\n",
       "3     2003      7    5     3 2003-07-05 03:00:00\n",
       "4     2003      7    5     4 2003-07-05 04:00:00\n",
       "...    ...    ...  ...   ...                 ...\n",
       "1321  2025      5   29    14 2025-05-29 14:00:00\n",
       "1322  2025      5   29    15 2025-05-29 15:00:00\n",
       "1323  2025      5   29    16 2025-05-29 16:00:00\n",
       "1324  2025      5   29    17 2025-05-29 17:00:00\n",
       "1325  2025      5   29    18 2025-05-29 18:00:00\n",
       "\n",
       "[1326 rows x 5 columns]"
      ]
     },
     "execution_count": 21,
     "metadata": {},
     "output_type": "execute_result"
    }
   ],
   "source": [
    "df[['year', 'month', 'day', 'hour', 'ObservationTime']] "
   ]
  },
  {
   "cell_type": "code",
   "execution_count": null,
   "id": "207563e8",
   "metadata": {},
   "outputs": [],
   "source": []
  },
  {
   "cell_type": "code",
   "execution_count": null,
   "id": "5aeb4f87",
   "metadata": {},
   "outputs": [],
   "source": []
  },
  {
   "cell_type": "code",
   "execution_count": null,
   "id": "b3c68ef5",
   "metadata": {},
   "outputs": [],
   "source": []
  },
  {
   "cell_type": "code",
   "execution_count": null,
   "id": "9f93f5e6",
   "metadata": {},
   "outputs": [],
   "source": []
  },
  {
   "cell_type": "code",
   "execution_count": null,
   "id": "c30c2d49",
   "metadata": {},
   "outputs": [],
   "source": []
  },
  {
   "cell_type": "code",
   "execution_count": null,
   "id": "cb6cfa69",
   "metadata": {},
   "outputs": [],
   "source": []
  },
  {
   "cell_type": "code",
   "execution_count": null,
   "id": "7f13be6f",
   "metadata": {},
   "outputs": [],
   "source": []
  },
  {
   "cell_type": "code",
   "execution_count": 7,
   "id": "944c3888",
   "metadata": {},
   "outputs": [
    {
     "data": {
      "text/plain": [
       "Index(['ObservationTime', 'StationID', 'WindDirection', 'WindSpeed',\n",
       "       'GustDirection', 'GustSpeed', 'GustTime', 'LocalPressure',\n",
       "       'SeaLevelPressure', 'PressureTrend', 'PressureChange', 'Temperature',\n",
       "       'DewPointTemperature', 'RelativeHumidity', 'VaporPressure',\n",
       "       'HourlyRainfall', 'DailyRainfall', 'CumulativeRainfall',\n",
       "       'RainfallIntensity', 'SnowDepth3Hr', 'DailySnowDepth', 'TotalSnowDepth',\n",
       "       'CurrentWeatherCode', 'PastWeatherCode', 'WeatherCode',\n",
       "       'TotalCloudCover', 'MidLowCloudCover', 'LowestCloudHeight', 'CloudType',\n",
       "       'UpperCloudType', 'MidCloudType', 'LowCloudType', 'Visibility',\n",
       "       'SunshineDuration', 'SolarRadiation', 'GroundCondition',\n",
       "       'GroundTemperature', 'SoilTemperature5cm', 'SoilTemperature10cm',\n",
       "       'SoilTemperature20cm', 'SoilTemperature30cm', 'SeaCondition',\n",
       "       'WaveHeight', 'MaxWindForce', 'PrecipitationData', 'ObservationType',\n",
       "       'year', 'month', 'day', 'hour'],\n",
       "      dtype='object')"
      ]
     },
     "execution_count": 7,
     "metadata": {},
     "output_type": "execute_result"
    }
   ],
   "source": [
    "df.columns "
   ]
  },
  {
   "cell_type": "code",
   "execution_count": 8,
   "id": "bb545c3d",
   "metadata": {},
   "outputs": [
    {
     "name": "stdout",
     "output_type": "stream",
     "text": [
      "\n",
      "선택된 특성들: ['SnowDepth3Hr', 'RelativeHumidity', 'HourlyRainfall', 'RainfallIntensity', 'DewPointTemperature', 'CurrentWeatherCode', 'SolarRadiation', 'Temperature']\n"
     ]
    }
   ],
   "source": [
    "selected_features_temp = [\n",
    "        'Temperature', 'DewPointTemperature', 'RelativeHumidity', 'SolarRadiation'\n",
    "    ]\n",
    "\n",
    "selected_features_umbrella = [\n",
    "        'HourlyRainfall', 'RainfallIntensity', 'CurrentWeatherCode', 'SnowDepth3Hr'\n",
    "    ]\n",
    "\n",
    "all_selected_features = list(set(selected_features_temp + selected_features_umbrella))\n",
    "print(f\"\\n선택된 특성들: {all_selected_features}\")"
   ]
  },
  {
   "cell_type": "code",
   "execution_count": 10,
   "id": "b649c140",
   "metadata": {},
   "outputs": [
    {
     "data": {
      "text/plain": [
       "Index(['ObservationTime', 'StationID', 'WindDirection', 'WindSpeed',\n",
       "       'GustDirection', 'GustSpeed', 'GustTime', 'LocalPressure',\n",
       "       'SeaLevelPressure', 'PressureTrend', 'PressureChange', '기온', '이슬점온도',\n",
       "       '상대습도', 'VaporPressure', '시간당강수량', 'DailyRainfall',\n",
       "       'CumulativeRainfall', '강수강도', '3시간신적설', 'DailySnowDepth',\n",
       "       'TotalSnowDepth', '현재날씨코드', 'PastWeatherCode', 'WeatherCode',\n",
       "       'TotalCloudCover', 'MidLowCloudCover', 'LowestCloudHeight', 'CloudType',\n",
       "       'UpperCloudType', 'MidCloudType', 'LowCloudType', 'Visibility',\n",
       "       'SunshineDuration', '일사량', 'GroundCondition', 'GroundTemperature',\n",
       "       'SoilTemperature5cm', 'SoilTemperature10cm', 'SoilTemperature20cm',\n",
       "       'SoilTemperature30cm', 'SeaCondition', 'WaveHeight', 'MaxWindForce',\n",
       "       'PrecipitationData', 'ObservationType', 'year', 'month', 'day', 'hour'],\n",
       "      dtype='object')"
      ]
     },
     "execution_count": 10,
     "metadata": {},
     "output_type": "execute_result"
    }
   ],
   "source": [
    "column_name_map = {\n",
    "    'SnowDepth3Hr': '3시간신적설',\n",
    "    'RelativeHumidity': '상대습도',\n",
    "    'HourlyRainfall': '시간당강수량',\n",
    "    'RainfallIntensity': '강수강도',\n",
    "    'DewPointTemperature': '이슬점온도',\n",
    "    'CurrentWeatherCode': '현재날씨코드',\n",
    "    'SolarRadiation': '일사량',\n",
    "    'Temperature': '기온'\n",
    "}\n",
    "\n",
    "df = df.rename(columns=column_name_map)\n",
    "df.columns"
   ]
  },
  {
   "cell_type": "code",
   "execution_count": 11,
   "id": "95ba90e0",
   "metadata": {},
   "outputs": [
    {
     "data": {
      "text/html": [
       "<div>\n",
       "<style scoped>\n",
       "    .dataframe tbody tr th:only-of-type {\n",
       "        vertical-align: middle;\n",
       "    }\n",
       "\n",
       "    .dataframe tbody tr th {\n",
       "        vertical-align: top;\n",
       "    }\n",
       "\n",
       "    .dataframe thead th {\n",
       "        text-align: right;\n",
       "    }\n",
       "</style>\n",
       "<table border=\"1\" class=\"dataframe\">\n",
       "  <thead>\n",
       "    <tr style=\"text-align: right;\">\n",
       "      <th></th>\n",
       "      <th>일사량</th>\n",
       "      <th>강수강도</th>\n",
       "      <th>현재날씨코드</th>\n",
       "      <th>이슬점온도</th>\n",
       "      <th>상대습도</th>\n",
       "      <th>3시간신적설</th>\n",
       "      <th>시간당강수량</th>\n",
       "      <th>기온</th>\n",
       "    </tr>\n",
       "  </thead>\n",
       "  <tbody>\n",
       "    <tr>\n",
       "      <th>0</th>\n",
       "      <td>-9.00</td>\n",
       "      <td>-9.0</td>\n",
       "      <td>-9</td>\n",
       "      <td>18.1</td>\n",
       "      <td>80.0</td>\n",
       "      <td>-9.0</td>\n",
       "      <td>-9.0</td>\n",
       "      <td>21.5</td>\n",
       "    </tr>\n",
       "    <tr>\n",
       "      <th>1</th>\n",
       "      <td>-9.00</td>\n",
       "      <td>-9.0</td>\n",
       "      <td>-9</td>\n",
       "      <td>-99.0</td>\n",
       "      <td>82.0</td>\n",
       "      <td>-9.0</td>\n",
       "      <td>-9.0</td>\n",
       "      <td>21.0</td>\n",
       "    </tr>\n",
       "    <tr>\n",
       "      <th>2</th>\n",
       "      <td>-9.00</td>\n",
       "      <td>-9.0</td>\n",
       "      <td>-9</td>\n",
       "      <td>-99.0</td>\n",
       "      <td>83.0</td>\n",
       "      <td>-9.0</td>\n",
       "      <td>-9.0</td>\n",
       "      <td>20.6</td>\n",
       "    </tr>\n",
       "    <tr>\n",
       "      <th>3</th>\n",
       "      <td>-9.00</td>\n",
       "      <td>-9.0</td>\n",
       "      <td>-9</td>\n",
       "      <td>17.9</td>\n",
       "      <td>85.0</td>\n",
       "      <td>-9.0</td>\n",
       "      <td>-9.0</td>\n",
       "      <td>20.3</td>\n",
       "    </tr>\n",
       "    <tr>\n",
       "      <th>4</th>\n",
       "      <td>-9.00</td>\n",
       "      <td>-9.0</td>\n",
       "      <td>-9</td>\n",
       "      <td>-99.0</td>\n",
       "      <td>85.0</td>\n",
       "      <td>-9.0</td>\n",
       "      <td>-9.0</td>\n",
       "      <td>20.1</td>\n",
       "    </tr>\n",
       "    <tr>\n",
       "      <th>...</th>\n",
       "      <td>...</td>\n",
       "      <td>...</td>\n",
       "      <td>...</td>\n",
       "      <td>...</td>\n",
       "      <td>...</td>\n",
       "      <td>...</td>\n",
       "      <td>...</td>\n",
       "      <td>...</td>\n",
       "    </tr>\n",
       "    <tr>\n",
       "      <th>1321</th>\n",
       "      <td>3.19</td>\n",
       "      <td>-9.0</td>\n",
       "      <td>-9</td>\n",
       "      <td>12.3</td>\n",
       "      <td>42.0</td>\n",
       "      <td>-9.0</td>\n",
       "      <td>-9.0</td>\n",
       "      <td>26.3</td>\n",
       "    </tr>\n",
       "    <tr>\n",
       "      <th>1322</th>\n",
       "      <td>2.30</td>\n",
       "      <td>-9.0</td>\n",
       "      <td>-9</td>\n",
       "      <td>10.7</td>\n",
       "      <td>39.0</td>\n",
       "      <td>-9.0</td>\n",
       "      <td>-9.0</td>\n",
       "      <td>25.8</td>\n",
       "    </tr>\n",
       "    <tr>\n",
       "      <th>1323</th>\n",
       "      <td>2.76</td>\n",
       "      <td>-9.0</td>\n",
       "      <td>-9</td>\n",
       "      <td>9.9</td>\n",
       "      <td>34.0</td>\n",
       "      <td>-9.0</td>\n",
       "      <td>-9.0</td>\n",
       "      <td>27.2</td>\n",
       "    </tr>\n",
       "    <tr>\n",
       "      <th>1324</th>\n",
       "      <td>1.15</td>\n",
       "      <td>-9.0</td>\n",
       "      <td>-9</td>\n",
       "      <td>13.9</td>\n",
       "      <td>47.0</td>\n",
       "      <td>-9.0</td>\n",
       "      <td>-9.0</td>\n",
       "      <td>26.2</td>\n",
       "    </tr>\n",
       "    <tr>\n",
       "      <th>1325</th>\n",
       "      <td>1.21</td>\n",
       "      <td>-9.0</td>\n",
       "      <td>17</td>\n",
       "      <td>14.6</td>\n",
       "      <td>52.0</td>\n",
       "      <td>-9.0</td>\n",
       "      <td>-9.0</td>\n",
       "      <td>25.2</td>\n",
       "    </tr>\n",
       "  </tbody>\n",
       "</table>\n",
       "<p>1326 rows × 8 columns</p>\n",
       "</div>"
      ],
      "text/plain": [
       "       일사량  강수강도  현재날씨코드  이슬점온도  상대습도  3시간신적설  시간당강수량    기온\n",
       "0    -9.00  -9.0      -9   18.1  80.0    -9.0    -9.0  21.5\n",
       "1    -9.00  -9.0      -9  -99.0  82.0    -9.0    -9.0  21.0\n",
       "2    -9.00  -9.0      -9  -99.0  83.0    -9.0    -9.0  20.6\n",
       "3    -9.00  -9.0      -9   17.9  85.0    -9.0    -9.0  20.3\n",
       "4    -9.00  -9.0      -9  -99.0  85.0    -9.0    -9.0  20.1\n",
       "...    ...   ...     ...    ...   ...     ...     ...   ...\n",
       "1321  3.19  -9.0      -9   12.3  42.0    -9.0    -9.0  26.3\n",
       "1322  2.30  -9.0      -9   10.7  39.0    -9.0    -9.0  25.8\n",
       "1323  2.76  -9.0      -9    9.9  34.0    -9.0    -9.0  27.2\n",
       "1324  1.15  -9.0      -9   13.9  47.0    -9.0    -9.0  26.2\n",
       "1325  1.21  -9.0      17   14.6  52.0    -9.0    -9.0  25.2\n",
       "\n",
       "[1326 rows x 8 columns]"
      ]
     },
     "execution_count": 11,
     "metadata": {},
     "output_type": "execute_result"
    }
   ],
   "source": [
    "simple_df = df[all_selected_features].copy()\n",
    "simple_df "
   ]
  },
  {
   "cell_type": "code",
   "execution_count": null,
   "id": "b48cc0cd",
   "metadata": {},
   "outputs": [],
   "source": []
  },
  {
   "cell_type": "code",
   "execution_count": null,
   "id": "f26f18c2",
   "metadata": {},
   "outputs": [],
   "source": []
  },
  {
   "cell_type": "code",
   "execution_count": null,
   "id": "adc87152",
   "metadata": {},
   "outputs": [],
   "source": []
  }
 ],
 "metadata": {
  "kernelspec": {
   "display_name": "Python 3",
   "language": "python",
   "name": "python3"
  },
  "language_info": {
   "codemirror_mode": {
    "name": "ipython",
    "version": 3
   },
   "file_extension": ".py",
   "mimetype": "text/x-python",
   "name": "python",
   "nbconvert_exporter": "python",
   "pygments_lexer": "ipython3",
   "version": "3.9.6"
  }
 },
 "nbformat": 4,
 "nbformat_minor": 5
}
