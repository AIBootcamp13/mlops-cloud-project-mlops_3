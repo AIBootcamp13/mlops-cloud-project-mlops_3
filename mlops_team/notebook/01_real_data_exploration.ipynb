{
 "cells": [
  {
   "cell_type": "code",
   "execution_count": 1,
   "id": "2fb6b25c",
   "metadata": {},
   "outputs": [
    {
     "name": "stdout",
     "output_type": "stream",
     "text": [
      "                  측정시간  현재기온  현재습도  현재풍속  1시간뒤기온\n",
      "0  2025-05-26 17:05:09  22.9  45.0   2.0    21.0\n",
      "1  2025-05-26 17:05:14  22.9  45.0   2.0    21.0\n",
      "2  2025-05-26 17:05:19  22.9  45.0   2.0    21.0\n",
      "3  2025-05-31 09:29:46  21.2  49.0   0.7    23.0\n",
      "4  2025-05-31 09:29:51  21.2  49.0   0.7    23.0\n",
      "Index(['측정시간', '현재기온', '현재습도', '현재풍속', '1시간뒤기온'], dtype='object')\n"
     ]
    }
   ],
   "source": [
    "import pandas as pd\n",
    "\n",
    "file_path = '../data/collected_weather_data.csv'\n",
    "\n",
    "df = pd.read_csv(file_path)\n",
    "\n",
    "print(df.head())\n",
    "print(df.columns)"
   ]
  },
  {
   "cell_type": "code",
   "execution_count": 2,
   "id": "0c9ade5c",
   "metadata": {},
   "outputs": [
    {
     "name": "stdout",
     "output_type": "stream",
     "text": [
      "Converted '측정시간' to datetime format.\n",
      "<class 'pandas.core.frame.DataFrame'>\n",
      "RangeIndex: 6 entries, 0 to 5\n",
      "Data columns (total 5 columns):\n",
      " #   Column  Non-Null Count  Dtype         \n",
      "---  ------  --------------  -----         \n",
      " 0   측정시간    6 non-null      datetime64[ns]\n",
      " 1   현재기온    6 non-null      float64       \n",
      " 2   현재습도    6 non-null      float64       \n",
      " 3   현재풍속    6 non-null      float64       \n",
      " 4   1시간뒤기온  6 non-null      float64       \n",
      "dtypes: datetime64[ns](1), float64(4)\n",
      "memory usage: 368.0 bytes\n",
      "None\n"
     ]
    }
   ],
   "source": [
    "# 측정시간 데이터 타입을 날짜 형식으로 수정\n",
    "if df['측정시간'].dtype == 'object':\n",
    "    df['측정시간'] = pd.to_datetime(df['측정시간'])\n",
    "    print(\"Converted '측정시간' to datetime format.\")\n",
    "    print(df.info())"
   ]
  },
  {
   "cell_type": "code",
   "execution_count": 3,
   "id": "ff2658e6",
   "metadata": {},
   "outputs": [
    {
     "name": "stdout",
     "output_type": "stream",
     "text": [
      "added 시각 feature\n",
      "                 측정시간  시각\n",
      "0 2025-05-26 17:05:09  17\n",
      "1 2025-05-26 17:05:14  17\n",
      "2 2025-05-26 17:05:19  17\n",
      "3 2025-05-31 09:29:46   9\n",
      "4 2025-05-31 09:29:51   9\n"
     ]
    }
   ],
   "source": [
    "\n",
    "# 피쳐 추가: 시각\n",
    "\n",
    "df['시각'] = df['측정시간'].dt.hour\n",
    "print(\"added 시각 feature\")\n",
    "print(df[['측정시간','시각']].head())"
   ]
  },
  {
   "cell_type": "code",
   "execution_count": 4,
   "id": "072c2ac3",
   "metadata": {},
   "outputs": [
    {
     "name": "stdout",
     "output_type": "stream",
     "text": [
      "입력 피쳐 X: \n",
      "   현재기온  현재습도  현재풍속  시각\n",
      "0  22.9  45.0   2.0  17\n",
      "1  22.9  45.0   2.0  17\n",
      "2  22.9  45.0   2.0  17\n",
      "3  21.2  49.0   0.7   9\n",
      "4  21.2  49.0   0.7   9\n",
      "타겟 피쳐 y: \n",
      "0    21.0\n",
      "1    21.0\n",
      "2    21.0\n",
      "3    23.0\n",
      "4    23.0\n",
      "Name: 1시간뒤기온, dtype: float64\n"
     ]
    }
   ],
   "source": [
    "\n",
    "feature_cols = ['현재기온', '현재습도', '현재풍속', '시각']\n",
    "\n",
    "target_col = '1시간뒤기온'\n",
    "required_cols = feature_cols + [target_col]\n",
    "\n",
    "X = df[feature_cols]\n",
    "y = df[target_col]\n",
    "\n",
    "print(\"입력 피쳐 X: \")\n",
    "print(X.head())\n",
    "print(\"타겟 피쳐 y: \")\n",
    "print(y.head())"
   ]
  },
  {
   "cell_type": "code",
   "execution_count": null,
   "id": "f027dc55",
   "metadata": {},
   "outputs": [
    {
     "name": "stdout",
     "output_type": "stream",
     "text": [
      "모델 학습 완료\n",
      "예측 결과:\n",
      "[21. 21. 21. 23. 23. 23.]\n",
      "모델이 temperature_model.pkl에 저장되었습니다.\n"
     ]
    }
   ],
   "source": [
    "# 데이터가 3줄밖에 안되니까 데이터 누수 생각 안하고 선형회귀 돌려보기\n",
    "# 5월 31일 테스트로 데이터가 3줄 추가됨\n",
    "\n",
    "from sklearn.linear_model import LinearRegression\n",
    "import pickle\n",
    "\n",
    "model = LinearRegression()\n",
    "\n",
    "model.fit(X, y)\n",
    "print(\"모델 학습 완료\")\n",
    "\n",
    "predictions = model.predict(X)\n",
    "print(\"예측 결과:\")\n",
    "print(predictions)\n",
    "\n",
    "model_filename = 'temperature_model.pkl'\n",
    "with open(model_filename, 'wb') as f:\n",
    "    pickle.dump(model, f)\n",
    "print(f\"모델이 {model_filename}에 저장되었습니다.\")\n",
    "\n",
    "\n",
    "# TODO: 모델 저장될 경로 수정하기. 아마도 src 안으로 가야할듯"
   ]
  },
  {
   "cell_type": "code",
   "execution_count": null,
   "id": "6d01fc23",
   "metadata": {},
   "outputs": [],
   "source": []
  }
 ],
 "metadata": {
  "kernelspec": {
   "display_name": "Python 3",
   "language": "python",
   "name": "python3"
  },
  "language_info": {
   "codemirror_mode": {
    "name": "ipython",
    "version": 3
   },
   "file_extension": ".py",
   "mimetype": "text/x-python",
   "name": "python",
   "nbconvert_exporter": "python",
   "pygments_lexer": "ipython3",
   "version": "3.9.6"
  }
 },
 "nbformat": 4,
 "nbformat_minor": 5
}
