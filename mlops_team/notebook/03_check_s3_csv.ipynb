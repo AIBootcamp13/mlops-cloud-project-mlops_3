{
 "cells": [
  {
   "cell_type": "code",
   "execution_count": 2,
   "id": "f9fcc682",
   "metadata": {},
   "outputs": [
    {
     "data": {
      "text/plain": [
       "True"
      ]
     },
     "execution_count": 2,
     "metadata": {},
     "output_type": "execute_result"
    }
   ],
   "source": [
    "# 1. 기본 모듈 임포트 및 .env 경로 지정\n",
    "import pandas as pd\n",
    "import os\n",
    "from dotenv import load_dotenv\n",
    "\n",
    "# .env 경로 지정 (노트북이 mlops_team 폴더 안에 있을 경우)\n",
    "dotenv_path = '../../.env' \n",
    "load_dotenv(dotenv_path=dotenv_path)"
   ]
  },
  {
   "cell_type": "code",
   "execution_count": 5,
   "id": "af010dcb",
   "metadata": {},
   "outputs": [
    {
     "name": "stdout",
     "output_type": "stream",
     "text": [
      "S3에서 다음 파일을 읽어옵니다: s3://mlops-prj/data/weather/realtime_hourly_raw/year=2025/month=06/day=02/hour=17/data.csv\n"
     ]
    }
   ],
   "source": [
    "# 2. S3에서 읽어올 파일 경로 구성\n",
    "s3_bucket_name = \"mlops-prj\"\n",
    "s3_file_key = \"data/weather/realtime_hourly_raw/year=2025/month=06/day=02/hour=17/data.csv\"\n",
    "\n",
    "s3_full_path = f\"s3://{s3_bucket_name}/{s3_file_key}\"\n",
    "\n",
    "print(f\"S3에서 다음 파일을 읽어옵니다: {s3_full_path}\")"
   ]
  },
  {
   "cell_type": "code",
   "execution_count": 10,
   "id": "877cd211",
   "metadata": {},
   "outputs": [
    {
     "name": "stdout",
     "output_type": "stream",
     "text": [
      "Collecting botocore<1.39.0,>=1.38.27\n",
      "  Using cached botocore-1.38.27-py3-none-any.whl.metadata (5.7 kB)\n",
      "Requirement already satisfied: jmespath<2.0.0,>=0.7.1 in /Users/jungminhong/anaconda3/envs/mlops_weather_env/lib/python3.9/site-packages (from botocore<1.39.0,>=1.38.27) (1.0.1)\n",
      "Requirement already satisfied: python-dateutil<3.0.0,>=2.1 in /Users/jungminhong/anaconda3/envs/mlops_weather_env/lib/python3.9/site-packages (from botocore<1.39.0,>=1.38.27) (2.9.0.post0)\n",
      "Requirement already satisfied: urllib3<1.27,>=1.25.4 in /Users/jungminhong/anaconda3/envs/mlops_weather_env/lib/python3.9/site-packages (from botocore<1.39.0,>=1.38.27) (1.26.19)\n",
      "Requirement already satisfied: six>=1.5 in /Users/jungminhong/anaconda3/envs/mlops_weather_env/lib/python3.9/site-packages (from python-dateutil<3.0.0,>=2.1->botocore<1.39.0,>=1.38.27) (1.17.0)\n",
      "Using cached botocore-1.38.27-py3-none-any.whl (13.6 MB)\n",
      "Installing collected packages: botocore\n",
      "  Attempting uninstall: botocore\n",
      "    Found existing installation: botocore 1.37.3\n",
      "    Uninstalling botocore-1.37.3:\n",
      "      Successfully uninstalled botocore-1.37.3\n",
      "\u001b[31mERROR: pip's dependency resolver does not currently take into account all the packages that are installed. This behaviour is the source of the following dependency conflicts.\n",
      "aiobotocore 2.22.0 requires botocore<1.37.4,>=1.37.2, but you have botocore 1.38.27 which is incompatible.\u001b[0m\u001b[31m\n",
      "\u001b[0mSuccessfully installed botocore-1.38.27\n",
      "Requirement already satisfied: boto3 in /Users/jungminhong/anaconda3/envs/mlops_weather_env/lib/python3.9/site-packages (1.38.27)\n",
      "Requirement already satisfied: s3transfer in /Users/jungminhong/anaconda3/envs/mlops_weather_env/lib/python3.9/site-packages (0.13.0)\n",
      "Requirement already satisfied: botocore<1.39.0,>=1.38.27 in /Users/jungminhong/anaconda3/envs/mlops_weather_env/lib/python3.9/site-packages (from boto3) (1.38.27)\n",
      "Requirement already satisfied: jmespath<2.0.0,>=0.7.1 in /Users/jungminhong/anaconda3/envs/mlops_weather_env/lib/python3.9/site-packages (from boto3) (1.0.1)\n",
      "Requirement already satisfied: python-dateutil<3.0.0,>=2.1 in /Users/jungminhong/anaconda3/envs/mlops_weather_env/lib/python3.9/site-packages (from botocore<1.39.0,>=1.38.27->boto3) (2.9.0.post0)\n",
      "Requirement already satisfied: urllib3<1.27,>=1.25.4 in /Users/jungminhong/anaconda3/envs/mlops_weather_env/lib/python3.9/site-packages (from botocore<1.39.0,>=1.38.27->boto3) (1.26.19)\n",
      "Requirement already satisfied: six>=1.5 in /Users/jungminhong/anaconda3/envs/mlops_weather_env/lib/python3.9/site-packages (from python-dateutil<3.0.0,>=2.1->botocore<1.39.0,>=1.38.27->boto3) (1.17.0)\n"
     ]
    }
   ],
   "source": [
    "\n",
    "!pip install \"botocore>=1.38.27,<1.39.0\"\n",
    "!pip install --upgrade boto3 s3transfer"
   ]
  },
  {
   "cell_type": "code",
   "execution_count": null,
   "id": "a407c5e8",
   "metadata": {},
   "outputs": [],
   "source": []
  },
  {
   "cell_type": "code",
   "execution_count": null,
   "id": "544d358b",
   "metadata": {},
   "outputs": [],
   "source": []
  },
  {
   "cell_type": "code",
   "execution_count": null,
   "id": "6744594e",
   "metadata": {},
   "outputs": [],
   "source": []
  },
  {
   "cell_type": "code",
   "execution_count": 11,
   "id": "2db7e038",
   "metadata": {},
   "outputs": [
    {
     "name": "stdout",
     "output_type": "stream",
     "text": [
      "[성공] S3에서 CSV 파일을 성공적으로 읽었습니다!\n"
     ]
    }
   ],
   "source": [
    "# 3. CSV 파일 읽기 시도\n",
    "try:\n",
    "    df_from_s3 = pd.read_csv(s3_full_path, encoding='utf-8-sig')  # storage_options 생략 가능\n",
    "    print(\"[성공] S3에서 CSV 파일을 성공적으로 읽었습니다!\")\n",
    "except FileNotFoundError:\n",
    "    print(f\"[오류] 파일을 찾을 수 없습니다: {s3_full_path}\")\n",
    "except pd.errors.EmptyDataError:\n",
    "    print(f\"[오류] 파일이 비어있습니다: {s3_full_path}\")\n",
    "except Exception as e:\n",
    "    print(f\"[오류] S3에서 파일을 읽는 중 문제가 발생했습니다: {e}\")"
   ]
  },
  {
   "cell_type": "code",
   "execution_count": null,
   "id": "7fa7012d",
   "metadata": {},
   "outputs": [
    {
     "name": "stdout",
     "output_type": "stream",
     "text": [
      "\n",
      "--- df.info() ---\n",
      "<class 'pandas.core.frame.DataFrame'>\n",
      "RangeIndex: 1 entries, 0 to 0\n",
      "Data columns (total 46 columns):\n",
      " #   Column               Non-Null Count  Dtype  \n",
      "---  ------               --------------  -----  \n",
      " 0   ObservationTime      1 non-null      object \n",
      " 1   StationID            1 non-null      int64  \n",
      " 2   WindDirection        1 non-null      int64  \n",
      " 3   WindSpeed            1 non-null      float64\n",
      " 4   GustDirection        0 non-null      float64\n",
      " 5   GustSpeed            0 non-null      float64\n",
      " 6   GustTime             0 non-null      float64\n",
      " 7   LocalPressure        1 non-null      float64\n",
      " 8   SeaLevelPressure     1 non-null      float64\n",
      " 9   PressureTrend        0 non-null      float64\n",
      " 10  PressureChange       0 non-null      float64\n",
      " 11  Temperature          1 non-null      float64\n",
      " 12  DewPointTemperature  1 non-null      float64\n",
      " 13  RelativeHumidity     1 non-null      float64\n",
      " 14  VaporPressure        1 non-null      float64\n",
      " 15  HourlyRainfall       1 non-null      float64\n",
      " 16  DailyRainfall        1 non-null      float64\n",
      " 17  CumulativeRainfall   1 non-null      float64\n",
      " 18  RainfallIntensity    0 non-null      float64\n",
      " 19  SnowDepth3Hr         0 non-null      float64\n",
      " 20  DailySnowDepth       0 non-null      float64\n",
      " 21  TotalSnowDepth       0 non-null      float64\n",
      " 22  CurrentWeatherCode   1 non-null      int64  \n",
      " 23  PastWeatherCode      1 non-null      int64  \n",
      " 24  WeatherCode          1 non-null      int64  \n",
      " 25  TotalCloudCover      1 non-null      int64  \n",
      " 26  MidLowCloudCover     1 non-null      int64  \n",
      " 27  LowestCloudHeight    1 non-null      int64  \n",
      " 28  CloudType            1 non-null      object \n",
      " 29  UpperCloudType       0 non-null      float64\n",
      " 30  MidCloudType         1 non-null      int64  \n",
      " 31  LowCloudType         1 non-null      int64  \n",
      " 32  Visibility           1 non-null      int64  \n",
      " 33  SunshineDuration     1 non-null      float64\n",
      " 34  SolarRadiation       1 non-null      float64\n",
      " 35  GroundCondition      0 non-null      float64\n",
      " 36  GroundTemperature    1 non-null      float64\n",
      " 37  SoilTemperature5cm   1 non-null      float64\n",
      " 38  SoilTemperature10cm  1 non-null      float64\n",
      " 39  SoilTemperature20cm  1 non-null      float64\n",
      " 40  SoilTemperature30cm  1 non-null      float64\n",
      " 41  SeaCondition         0 non-null      float64\n",
      " 42  WaveHeight           1 non-null      float64\n",
      " 43  MaxWindForce         0 non-null      float64\n",
      " 44  PrecipitationData    1 non-null      int64  \n",
      " 45  ObservationType      1 non-null      int64  \n",
      "dtypes: float64(31), int64(13), object(2)\n",
      "memory usage: 496.0+ bytes\n",
      "\n",
      "--- df.describe(include='all') ---\n",
      "            ObservationTime  StationID  WindDirection  WindSpeed  \\\n",
      "count                     1        1.0            1.0        1.0   \n",
      "unique                    1        NaN            NaN        NaN   \n",
      "top     2025-06-02 17:00:00        NaN            NaN        NaN   \n",
      "freq                      1        NaN            NaN        NaN   \n",
      "mean                    NaN      159.0           20.0        3.8   \n",
      "std                     NaN        NaN            NaN        NaN   \n",
      "min                     NaN      159.0           20.0        3.8   \n",
      "25%                     NaN      159.0           20.0        3.8   \n",
      "50%                     NaN      159.0           20.0        3.8   \n",
      "75%                     NaN      159.0           20.0        3.8   \n",
      "max                     NaN      159.0           20.0        3.8   \n",
      "\n",
      "        GustDirection  GustSpeed  GustTime  LocalPressure  SeaLevelPressure  \\\n",
      "count             0.0        0.0       0.0            1.0               1.0   \n",
      "unique            NaN        NaN       NaN            NaN               NaN   \n",
      "top               NaN        NaN       NaN            NaN               NaN   \n",
      "freq              NaN        NaN       NaN            NaN               NaN   \n",
      "mean              NaN        NaN       NaN          995.2            1003.2   \n",
      "std               NaN        NaN       NaN            NaN               NaN   \n",
      "min               NaN        NaN       NaN          995.2            1003.2   \n",
      "25%               NaN        NaN       NaN          995.2            1003.2   \n",
      "50%               NaN        NaN       NaN          995.2            1003.2   \n",
      "75%               NaN        NaN       NaN          995.2            1003.2   \n",
      "max               NaN        NaN       NaN          995.2            1003.2   \n",
      "\n",
      "        PressureTrend  ...  GroundTemperature  SoilTemperature5cm  \\\n",
      "count             0.0  ...                1.0                 1.0   \n",
      "unique            NaN  ...                NaN                 NaN   \n",
      "top               NaN  ...                NaN                 NaN   \n",
      "freq              NaN  ...                NaN                 NaN   \n",
      "mean              NaN  ...               21.5                22.2   \n",
      "std               NaN  ...                NaN                 NaN   \n",
      "min               NaN  ...               21.5                22.2   \n",
      "25%               NaN  ...               21.5                22.2   \n",
      "50%               NaN  ...               21.5                22.2   \n",
      "75%               NaN  ...               21.5                22.2   \n",
      "max               NaN  ...               21.5                22.2   \n",
      "\n",
      "        SoilTemperature10cm  SoilTemperature20cm  SoilTemperature30cm  \\\n",
      "count                   1.0                  1.0                  1.0   \n",
      "unique                  NaN                  NaN                  NaN   \n",
      "top                     NaN                  NaN                  NaN   \n",
      "freq                    NaN                  NaN                  NaN   \n",
      "mean                   21.1                 19.7                 19.5   \n",
      "std                     NaN                  NaN                  NaN   \n",
      "min                    21.1                 19.7                 19.5   \n",
      "25%                    21.1                 19.7                 19.5   \n",
      "50%                    21.1                 19.7                 19.5   \n",
      "75%                    21.1                 19.7                 19.5   \n",
      "max                    21.1                 19.7                 19.5   \n",
      "\n",
      "        SeaCondition  WaveHeight  MaxWindForce  PrecipitationData  \\\n",
      "count            0.0         1.0           0.0                1.0   \n",
      "unique           NaN         NaN           NaN                NaN   \n",
      "top              NaN         NaN           NaN                NaN   \n",
      "freq             NaN         NaN           NaN                NaN   \n",
      "mean             NaN         0.5           NaN                4.0   \n",
      "std              NaN         NaN           NaN                NaN   \n",
      "min              NaN         0.5           NaN                4.0   \n",
      "25%              NaN         0.5           NaN                4.0   \n",
      "50%              NaN         0.5           NaN                4.0   \n",
      "75%              NaN         0.5           NaN                4.0   \n",
      "max              NaN         0.5           NaN                4.0   \n",
      "\n",
      "        ObservationType  \n",
      "count               1.0  \n",
      "unique              NaN  \n",
      "top                 NaN  \n",
      "freq                NaN  \n",
      "mean                1.0  \n",
      "std                 NaN  \n",
      "min                 1.0  \n",
      "25%                 1.0  \n",
      "50%                 1.0  \n",
      "75%                 1.0  \n",
      "max                 1.0  \n",
      "\n",
      "[11 rows x 46 columns]\n",
      "\n",
      "--- df.head() ---\n",
      "       ObservationTime  StationID  WindDirection  WindSpeed  GustDirection  \\\n",
      "0  2025-06-02 17:00:00        159             20        3.8            NaN   \n",
      "\n",
      "   GustSpeed  GustTime  LocalPressure  SeaLevelPressure  PressureTrend  ...  \\\n",
      "0        NaN       NaN          995.2            1003.2            NaN  ...   \n",
      "\n",
      "   GroundTemperature  SoilTemperature5cm  SoilTemperature10cm  \\\n",
      "0               21.5                22.2                 21.1   \n",
      "\n",
      "   SoilTemperature20cm  SoilTemperature30cm  SeaCondition  WaveHeight  \\\n",
      "0                 19.7                 19.5           NaN         0.5   \n",
      "\n",
      "   MaxWindForce  PrecipitationData  ObservationType  \n",
      "0           NaN                  4                1  \n",
      "\n",
      "[1 rows x 46 columns]\n",
      "\n",
      "--- df.shape ---\n",
      "행: 1, 열: 46\n"
     ]
    }
   ],
   "source": [
    "# 4. DataFrame 정보 요약\n",
    "print(\"\\n--- df.info() ---\")\n",
    "df_from_s3.info()\n",
    "\n",
    "print(\"\\n--- df.describe(include='all') ---\")\n",
    "print(df_from_s3.describe(include='all'))\n",
    "\n",
    "\n",
    "print(f\"\\n--- df.shape ---\")\n",
    "print(f\"행: {df_from_s3.shape[0]}, 열: {df_from_s3.shape[1]}\")"
   ]
  },
  {
   "cell_type": "code",
   "execution_count": 14,
   "id": "e699dab7",
   "metadata": {},
   "outputs": [
    {
     "data": {
      "text/plain": [
       "Index(['ObservationTime', 'StationID', 'WindDirection', 'WindSpeed',\n",
       "       'GustDirection', 'GustSpeed', 'GustTime', 'LocalPressure',\n",
       "       'SeaLevelPressure', 'PressureTrend', 'PressureChange', 'Temperature',\n",
       "       'DewPointTemperature', 'RelativeHumidity', 'VaporPressure',\n",
       "       'HourlyRainfall', 'DailyRainfall', 'CumulativeRainfall',\n",
       "       'RainfallIntensity', 'SnowDepth3Hr', 'DailySnowDepth', 'TotalSnowDepth',\n",
       "       'CurrentWeatherCode', 'PastWeatherCode', 'WeatherCode',\n",
       "       'TotalCloudCover', 'MidLowCloudCover', 'LowestCloudHeight', 'CloudType',\n",
       "       'UpperCloudType', 'MidCloudType', 'LowCloudType', 'Visibility',\n",
       "       'SunshineDuration', 'SolarRadiation', 'GroundCondition',\n",
       "       'GroundTemperature', 'SoilTemperature5cm', 'SoilTemperature10cm',\n",
       "       'SoilTemperature20cm', 'SoilTemperature30cm', 'SeaCondition',\n",
       "       'WaveHeight', 'MaxWindForce', 'PrecipitationData', 'ObservationType'],\n",
       "      dtype='object')"
      ]
     },
     "execution_count": 14,
     "metadata": {},
     "output_type": "execute_result"
    }
   ],
   "source": [
    "df_from_s3.columns"
   ]
  },
  {
   "cell_type": "code",
   "execution_count": 15,
   "id": "140a4211",
   "metadata": {},
   "outputs": [
    {
     "name": "stdout",
     "output_type": "stream",
     "text": [
      "\n",
      "--- df.head() ---\n",
      "       ObservationTime  StationID  WindDirection  WindSpeed  GustDirection  \\\n",
      "0  2025-06-02 17:00:00        159             20        3.8            NaN   \n",
      "\n",
      "   GustSpeed  GustTime  LocalPressure  SeaLevelPressure  PressureTrend  ...  \\\n",
      "0        NaN       NaN          995.2            1003.2            NaN  ...   \n",
      "\n",
      "   GroundTemperature  SoilTemperature5cm  SoilTemperature10cm  \\\n",
      "0               21.5                22.2                 21.1   \n",
      "\n",
      "   SoilTemperature20cm  SoilTemperature30cm  SeaCondition  WaveHeight  \\\n",
      "0                 19.7                 19.5           NaN         0.5   \n",
      "\n",
      "   MaxWindForce  PrecipitationData  ObservationType  \n",
      "0           NaN                  4                1  \n",
      "\n",
      "[1 rows x 46 columns]\n"
     ]
    }
   ],
   "source": [
    "\n",
    "print(\"\\n--- df.head() ---\")\n",
    "print(df_from_s3.head())"
   ]
  },
  {
   "cell_type": "markdown",
   "id": "faae603b",
   "metadata": {},
   "source": [
    "# 16시 데이터 받아서 17시랑 비교해보자비교해보자"
   ]
  },
  {
   "cell_type": "code",
   "execution_count": null,
   "id": "49b6386c",
   "metadata": {},
   "outputs": [
    {
     "name": "stdout",
     "output_type": "stream",
     "text": [
      "S3에서 다음 파일을 읽어옵니다: s3://mlops-prj/data/weather/realtime_hourly_raw/year=2025/month=06/day=02/hour=16/data.csv\n"
     ]
    }
   ],
   "source": [
    "# 16시 데이터\n",
    "s3_bucket_name = \"mlops-prj\"\n",
    "s3_file_key = \"data/weather/realtime_hourly_raw/year=2025/month=06/day=02/hour=16/data.csv\"\n",
    "\n",
    "s3_full_path = f\"s3://{s3_bucket_name}/{s3_file_key}\"\n",
    "\n",
    "print(f\"S3에서 다음 파일을 읽어옵니다: {s3_full_path}\")"
   ]
  },
  {
   "cell_type": "code",
   "execution_count": 17,
   "id": "f091fa95",
   "metadata": {},
   "outputs": [
    {
     "name": "stdout",
     "output_type": "stream",
     "text": [
      "[성공] S3에서 CSV 파일을 성공적으로 읽었습니다!\n"
     ]
    }
   ],
   "source": [
    "# 3. CSV 파일 읽기 시도\n",
    "try:\n",
    "    df_from_s3 = pd.read_csv(s3_full_path, encoding='utf-8-sig')  # storage_options 생략 가능\n",
    "    print(\"[성공] S3에서 CSV 파일을 성공적으로 읽었습니다!\")\n",
    "except FileNotFoundError:\n",
    "    print(f\"[오류] 파일을 찾을 수 없습니다: {s3_full_path}\")\n",
    "except pd.errors.EmptyDataError:\n",
    "    print(f\"[오류] 파일이 비어있습니다: {s3_full_path}\")\n",
    "except Exception as e:\n",
    "    print(f\"[오류] S3에서 파일을 읽는 중 문제가 발생했습니다: {e}\")"
   ]
  },
  {
   "cell_type": "code",
   "execution_count": 18,
   "id": "6d7fd695",
   "metadata": {},
   "outputs": [
    {
     "name": "stdout",
     "output_type": "stream",
     "text": [
      "\n",
      "--- df.head() ---\n",
      "       ObservationTime  StationID  WindDirection  WindSpeed  GustDirection  \\\n",
      "0  2025-06-02 16:00:00        159             23        2.8            NaN   \n",
      "\n",
      "   GustSpeed  GustTime  LocalPressure  SeaLevelPressure  PressureTrend  ...  \\\n",
      "0        NaN       NaN            NaN               NaN            NaN  ...   \n",
      "\n",
      "   GroundTemperature  SoilTemperature5cm  SoilTemperature10cm  \\\n",
      "0                NaN                 NaN                  NaN   \n",
      "\n",
      "   SoilTemperature20cm  SoilTemperature30cm  SeaCondition  WaveHeight  \\\n",
      "0                  NaN                  NaN           NaN         NaN   \n",
      "\n",
      "   MaxWindForce  PrecipitationData  ObservationType  \n",
      "0           NaN                NaN              NaN  \n",
      "\n",
      "[1 rows x 46 columns]\n"
     ]
    }
   ],
   "source": [
    "print(\"\\n--- df.head() ---\")\n",
    "print(df_from_s3.head())"
   ]
  },
  {
   "cell_type": "markdown",
   "id": "e25bfd7a",
   "metadata": {},
   "source": []
  },
  {
   "cell_type": "code",
   "execution_count": null,
   "id": "22fdaf01",
   "metadata": {},
   "outputs": [],
   "source": []
  },
  {
   "cell_type": "code",
   "execution_count": null,
   "id": "a37bf57b",
   "metadata": {},
   "outputs": [],
   "source": []
  },
  {
   "cell_type": "code",
   "execution_count": null,
   "id": "7aa34cbd",
   "metadata": {},
   "outputs": [],
   "source": []
  },
  {
   "cell_type": "code",
   "execution_count": null,
   "id": "11c20a03",
   "metadata": {},
   "outputs": [],
   "source": []
  },
  {
   "cell_type": "code",
   "execution_count": null,
   "id": "4f90aa67",
   "metadata": {},
   "outputs": [],
   "source": []
  }
 ],
 "metadata": {
  "kernelspec": {
   "display_name": "mlops_weather_env",
   "language": "python",
   "name": "python3"
  },
  "language_info": {
   "codemirror_mode": {
    "name": "ipython",
    "version": 3
   },
   "file_extension": ".py",
   "mimetype": "text/x-python",
   "name": "python",
   "nbconvert_exporter": "python",
   "pygments_lexer": "ipython3",
   "version": "3.9.18"
  }
 },
 "nbformat": 4,
 "nbformat_minor": 5
}
