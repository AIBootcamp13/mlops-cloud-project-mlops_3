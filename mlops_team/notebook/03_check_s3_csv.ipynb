{
 "cells": [
  {
   "cell_type": "code",
   "execution_count": 2,
   "id": "f9fcc682",
   "metadata": {},
   "outputs": [
    {
     "data": {
      "text/plain": [
       "True"
      ]
     },
     "execution_count": 2,
     "metadata": {},
     "output_type": "execute_result"
    }
   ],
   "source": [
    "# 1. 기본 모듈 임포트 및 .env 경로 지정\n",
    "import pandas as pd\n",
    "import os\n",
    "from dotenv import load_dotenv\n",
    "\n",
    "# .env 경로 지정 (노트북이 mlops_team 폴더 안에 있을 경우)\n",
    "dotenv_path = '../../.env' \n",
    "load_dotenv(dotenv_path=dotenv_path)"
   ]
  },
  {
   "cell_type": "code",
   "execution_count": 5,
   "id": "af010dcb",
   "metadata": {},
   "outputs": [
    {
     "name": "stdout",
     "output_type": "stream",
     "text": [
      "S3에서 다음 파일을 읽어옵니다: s3://mlops-prj/data/weather/realtime_hourly_raw/year=2025/month=06/day=02/hour=17/data.csv\n"
     ]
    }
   ],
   "source": [
    "# 2. S3에서 읽어올 파일 경로 구성\n",
    "s3_bucket_name = \"mlops-prj\"\n",
    "s3_file_key = \"data/weather/realtime_hourly_raw/year=2025/month=06/day=02/hour=17/data.csv\"\n",
    "\n",
    "s3_full_path = f\"s3://{s3_bucket_name}/{s3_file_key}\"\n",
    "\n",
    "print(f\"S3에서 다음 파일을 읽어옵니다: {s3_full_path}\")"
   ]
  },
  {
   "cell_type": "code",
   "execution_count": 10,
   "id": "877cd211",
   "metadata": {},
   "outputs": [
    {
     "name": "stdout",
     "output_type": "stream",
     "text": [
      "Collecting botocore<1.39.0,>=1.38.27\n",
      "  Using cached botocore-1.38.27-py3-none-any.whl.metadata (5.7 kB)\n",
      "Requirement already satisfied: jmespath<2.0.0,>=0.7.1 in /Users/jungminhong/anaconda3/envs/mlops_weather_env/lib/python3.9/site-packages (from botocore<1.39.0,>=1.38.27) (1.0.1)\n",
      "Requirement already satisfied: python-dateutil<3.0.0,>=2.1 in /Users/jungminhong/anaconda3/envs/mlops_weather_env/lib/python3.9/site-packages (from botocore<1.39.0,>=1.38.27) (2.9.0.post0)\n",
      "Requirement already satisfied: urllib3<1.27,>=1.25.4 in /Users/jungminhong/anaconda3/envs/mlops_weather_env/lib/python3.9/site-packages (from botocore<1.39.0,>=1.38.27) (1.26.19)\n",
      "Requirement already satisfied: six>=1.5 in /Users/jungminhong/anaconda3/envs/mlops_weather_env/lib/python3.9/site-packages (from python-dateutil<3.0.0,>=2.1->botocore<1.39.0,>=1.38.27) (1.17.0)\n",
      "Using cached botocore-1.38.27-py3-none-any.whl (13.6 MB)\n",
      "Installing collected packages: botocore\n",
      "  Attempting uninstall: botocore\n",
      "    Found existing installation: botocore 1.37.3\n",
      "    Uninstalling botocore-1.37.3:\n",
      "      Successfully uninstalled botocore-1.37.3\n",
      "\u001b[31mERROR: pip's dependency resolver does not currently take into account all the packages that are installed. This behaviour is the source of the following dependency conflicts.\n",
      "aiobotocore 2.22.0 requires botocore<1.37.4,>=1.37.2, but you have botocore 1.38.27 which is incompatible.\u001b[0m\u001b[31m\n",
      "\u001b[0mSuccessfully installed botocore-1.38.27\n",
      "Requirement already satisfied: boto3 in /Users/jungminhong/anaconda3/envs/mlops_weather_env/lib/python3.9/site-packages (1.38.27)\n",
      "Requirement already satisfied: s3transfer in /Users/jungminhong/anaconda3/envs/mlops_weather_env/lib/python3.9/site-packages (0.13.0)\n",
      "Requirement already satisfied: botocore<1.39.0,>=1.38.27 in /Users/jungminhong/anaconda3/envs/mlops_weather_env/lib/python3.9/site-packages (from boto3) (1.38.27)\n",
      "Requirement already satisfied: jmespath<2.0.0,>=0.7.1 in /Users/jungminhong/anaconda3/envs/mlops_weather_env/lib/python3.9/site-packages (from boto3) (1.0.1)\n",
      "Requirement already satisfied: python-dateutil<3.0.0,>=2.1 in /Users/jungminhong/anaconda3/envs/mlops_weather_env/lib/python3.9/site-packages (from botocore<1.39.0,>=1.38.27->boto3) (2.9.0.post0)\n",
      "Requirement already satisfied: urllib3<1.27,>=1.25.4 in /Users/jungminhong/anaconda3/envs/mlops_weather_env/lib/python3.9/site-packages (from botocore<1.39.0,>=1.38.27->boto3) (1.26.19)\n",
      "Requirement already satisfied: six>=1.5 in /Users/jungminhong/anaconda3/envs/mlops_weather_env/lib/python3.9/site-packages (from python-dateutil<3.0.0,>=2.1->botocore<1.39.0,>=1.38.27->boto3) (1.17.0)\n"
     ]
    }
   ],
   "source": [
    "\n",
    "!pip install \"botocore>=1.38.27,<1.39.0\"\n",
    "!pip install --upgrade boto3 s3transfer"
   ]
  },
  {
   "cell_type": "code",
   "execution_count": null,
   "id": "a407c5e8",
   "metadata": {},
   "outputs": [],
   "source": []
  },
  {
   "cell_type": "code",
   "execution_count": null,
   "id": "544d358b",
   "metadata": {},
   "outputs": [],
   "source": []
  },
  {
   "cell_type": "code",
   "execution_count": null,
   "id": "6744594e",
   "metadata": {},
   "outputs": [],
   "source": []
  },
  {
   "cell_type": "code",
   "execution_count": 11,
   "id": "2db7e038",
   "metadata": {},
   "outputs": [
    {
     "name": "stdout",
     "output_type": "stream",
     "text": [
      "[성공] S3에서 CSV 파일을 성공적으로 읽었습니다!\n"
     ]
    }
   ],
   "source": [
    "# 3. CSV 파일 읽기 시도\n",
    "try:\n",
    "    df_from_s3 = pd.read_csv(s3_full_path, encoding='utf-8-sig')  # storage_options 생략 가능\n",
    "    print(\"[성공] S3에서 CSV 파일을 성공적으로 읽었습니다!\")\n",
    "except FileNotFoundError:\n",
    "    print(f\"[오류] 파일을 찾을 수 없습니다: {s3_full_path}\")\n",
    "except pd.errors.EmptyDataError:\n",
    "    print(f\"[오류] 파일이 비어있습니다: {s3_full_path}\")\n",
    "except Exception as e:\n",
    "    print(f\"[오류] S3에서 파일을 읽는 중 문제가 발생했습니다: {e}\")"
   ]
  },
  {
   "cell_type": "code",
   "execution_count": null,
   "id": "7fa7012d",
   "metadata": {},
   "outputs": [
    {
     "name": "stdout",
     "output_type": "stream",
     "text": [
      "\n",
      "--- df.info() ---\n",
      "<class 'pandas.core.frame.DataFrame'>\n",
      "RangeIndex: 1 entries, 0 to 0\n",
      "Data columns (total 46 columns):\n",
      " #   Column               Non-Null Count  Dtype  \n",
      "---  ------               --------------  -----  \n",
      " 0   ObservationTime      1 non-null      object \n",
      " 1   StationID            1 non-null      int64  \n",
      " 2   WindDirection        1 non-null      int64  \n",
      " 3   WindSpeed            1 non-null      float64\n",
      " 4   GustDirection        0 non-null      float64\n",
      " 5   GustSpeed            0 non-null      float64\n",
      " 6   GustTime             0 non-null      float64\n",
      " 7   LocalPressure        1 non-null      float64\n",
      " 8   SeaLevelPressure     1 non-null      float64\n",
      " 9   PressureTrend        0 non-null      float64\n",
      " 10  PressureChange       0 non-null      float64\n",
      " 11  Temperature          1 non-null      float64\n",
      " 12  DewPointTemperature  1 non-null      float64\n",
      " 13  RelativeHumidity     1 non-null      float64\n",
      " 14  VaporPressure        1 non-null      float64\n",
      " 15  HourlyRainfall       1 non-null      float64\n",
      " 16  DailyRainfall        1 non-null      float64\n",
      " 17  CumulativeRainfall   1 non-null      float64\n",
      " 18  RainfallIntensity    0 non-null      float64\n",
      " 19  SnowDepth3Hr         0 non-null      float64\n",
      " 20  DailySnowDepth       0 non-null      float64\n",
      " 21  TotalSnowDepth       0 non-null      float64\n",
      " 22  CurrentWeatherCode   1 non-null      int64  \n",
      " 23  PastWeatherCode      1 non-null      int64  \n",
      " 24  WeatherCode          1 non-null      int64  \n",
      " 25  TotalCloudCover      1 non-null      int64  \n",
      " 26  MidLowCloudCover     1 non-null      int64  \n",
      " 27  LowestCloudHeight    1 non-null      int64  \n",
      " 28  CloudType            1 non-null      object \n",
      " 29  UpperCloudType       0 non-null      float64\n",
      " 30  MidCloudType         1 non-null      int64  \n",
      " 31  LowCloudType         1 non-null      int64  \n",
      " 32  Visibility           1 non-null      int64  \n",
      " 33  SunshineDuration     1 non-null      float64\n",
      " 34  SolarRadiation       1 non-null      float64\n",
      " 35  GroundCondition      0 non-null      float64\n",
      " 36  GroundTemperature    1 non-null      float64\n",
      " 37  SoilTemperature5cm   1 non-null      float64\n",
      " 38  SoilTemperature10cm  1 non-null      float64\n",
      " 39  SoilTemperature20cm  1 non-null      float64\n",
      " 40  SoilTemperature30cm  1 non-null      float64\n",
      " 41  SeaCondition         0 non-null      float64\n",
      " 42  WaveHeight           1 non-null      float64\n",
      " 43  MaxWindForce         0 non-null      float64\n",
      " 44  PrecipitationData    1 non-null      int64  \n",
      " 45  ObservationType      1 non-null      int64  \n",
      "dtypes: float64(31), int64(13), object(2)\n",
      "memory usage: 496.0+ bytes\n",
      "\n",
      "--- df.describe(include='all') ---\n",
      "            ObservationTime  StationID  WindDirection  WindSpeed  \\\n",
      "count                     1        1.0            1.0        1.0   \n",
      "unique                    1        NaN            NaN        NaN   \n",
      "top     2025-06-02 17:00:00        NaN            NaN        NaN   \n",
      "freq                      1        NaN            NaN        NaN   \n",
      "mean                    NaN      159.0           20.0        3.8   \n",
      "std                     NaN        NaN            NaN        NaN   \n",
      "min                     NaN      159.0           20.0        3.8   \n",
      "25%                     NaN      159.0           20.0        3.8   \n",
      "50%                     NaN      159.0           20.0        3.8   \n",
      "75%                     NaN      159.0           20.0        3.8   \n",
      "max                     NaN      159.0           20.0        3.8   \n",
      "\n",
      "        GustDirection  GustSpeed  GustTime  LocalPressure  SeaLevelPressure  \\\n",
      "count             0.0        0.0       0.0            1.0               1.0   \n",
      "unique            NaN        NaN       NaN            NaN               NaN   \n",
      "top               NaN        NaN       NaN            NaN               NaN   \n",
      "freq              NaN        NaN       NaN            NaN               NaN   \n",
      "mean              NaN        NaN       NaN          995.2            1003.2   \n",
      "std               NaN        NaN       NaN            NaN               NaN   \n",
      "min               NaN        NaN       NaN          995.2            1003.2   \n",
      "25%               NaN        NaN       NaN          995.2            1003.2   \n",
      "50%               NaN        NaN       NaN          995.2            1003.2   \n",
      "75%               NaN        NaN       NaN          995.2            1003.2   \n",
      "max               NaN        NaN       NaN          995.2            1003.2   \n",
      "\n",
      "        PressureTrend  ...  GroundTemperature  SoilTemperature5cm  \\\n",
      "count             0.0  ...                1.0                 1.0   \n",
      "unique            NaN  ...                NaN                 NaN   \n",
      "top               NaN  ...                NaN                 NaN   \n",
      "freq              NaN  ...                NaN                 NaN   \n",
      "mean              NaN  ...               21.5                22.2   \n",
      "std               NaN  ...                NaN                 NaN   \n",
      "min               NaN  ...               21.5                22.2   \n",
      "25%               NaN  ...               21.5                22.2   \n",
      "50%               NaN  ...               21.5                22.2   \n",
      "75%               NaN  ...               21.5                22.2   \n",
      "max               NaN  ...               21.5                22.2   \n",
      "\n",
      "        SoilTemperature10cm  SoilTemperature20cm  SoilTemperature30cm  \\\n",
      "count                   1.0                  1.0                  1.0   \n",
      "unique                  NaN                  NaN                  NaN   \n",
      "top                     NaN                  NaN                  NaN   \n",
      "freq                    NaN                  NaN                  NaN   \n",
      "mean                   21.1                 19.7                 19.5   \n",
      "std                     NaN                  NaN                  NaN   \n",
      "min                    21.1                 19.7                 19.5   \n",
      "25%                    21.1                 19.7                 19.5   \n",
      "50%                    21.1                 19.7                 19.5   \n",
      "75%                    21.1                 19.7                 19.5   \n",
      "max                    21.1                 19.7                 19.5   \n",
      "\n",
      "        SeaCondition  WaveHeight  MaxWindForce  PrecipitationData  \\\n",
      "count            0.0         1.0           0.0                1.0   \n",
      "unique           NaN         NaN           NaN                NaN   \n",
      "top              NaN         NaN           NaN                NaN   \n",
      "freq             NaN         NaN           NaN                NaN   \n",
      "mean             NaN         0.5           NaN                4.0   \n",
      "std              NaN         NaN           NaN                NaN   \n",
      "min              NaN         0.5           NaN                4.0   \n",
      "25%              NaN         0.5           NaN                4.0   \n",
      "50%              NaN         0.5           NaN                4.0   \n",
      "75%              NaN         0.5           NaN                4.0   \n",
      "max              NaN         0.5           NaN                4.0   \n",
      "\n",
      "        ObservationType  \n",
      "count               1.0  \n",
      "unique              NaN  \n",
      "top                 NaN  \n",
      "freq                NaN  \n",
      "mean                1.0  \n",
      "std                 NaN  \n",
      "min                 1.0  \n",
      "25%                 1.0  \n",
      "50%                 1.0  \n",
      "75%                 1.0  \n",
      "max                 1.0  \n",
      "\n",
      "[11 rows x 46 columns]\n",
      "\n",
      "--- df.head() ---\n",
      "       ObservationTime  StationID  WindDirection  WindSpeed  GustDirection  \\\n",
      "0  2025-06-02 17:00:00        159             20        3.8            NaN   \n",
      "\n",
      "   GustSpeed  GustTime  LocalPressure  SeaLevelPressure  PressureTrend  ...  \\\n",
      "0        NaN       NaN          995.2            1003.2            NaN  ...   \n",
      "\n",
      "   GroundTemperature  SoilTemperature5cm  SoilTemperature10cm  \\\n",
      "0               21.5                22.2                 21.1   \n",
      "\n",
      "   SoilTemperature20cm  SoilTemperature30cm  SeaCondition  WaveHeight  \\\n",
      "0                 19.7                 19.5           NaN         0.5   \n",
      "\n",
      "   MaxWindForce  PrecipitationData  ObservationType  \n",
      "0           NaN                  4                1  \n",
      "\n",
      "[1 rows x 46 columns]\n",
      "\n",
      "--- df.shape ---\n",
      "행: 1, 열: 46\n"
     ]
    }
   ],
   "source": [
    "# 4. DataFrame 정보 요약\n",
    "print(\"\\n--- df.info() ---\")\n",
    "df_from_s3.info()\n",
    "\n",
    "print(\"\\n--- df.describe(include='all') ---\")\n",
    "print(df_from_s3.describe(include='all'))\n",
    "\n",
    "\n",
    "print(f\"\\n--- df.shape ---\")\n",
    "print(f\"행: {df_from_s3.shape[0]}, 열: {df_from_s3.shape[1]}\")"
   ]
  },
  {
   "cell_type": "code",
   "execution_count": 14,
   "id": "e699dab7",
   "metadata": {},
   "outputs": [
    {
     "data": {
      "text/plain": [
       "Index(['ObservationTime', 'StationID', 'WindDirection', 'WindSpeed',\n",
       "       'GustDirection', 'GustSpeed', 'GustTime', 'LocalPressure',\n",
       "       'SeaLevelPressure', 'PressureTrend', 'PressureChange', 'Temperature',\n",
       "       'DewPointTemperature', 'RelativeHumidity', 'VaporPressure',\n",
       "       'HourlyRainfall', 'DailyRainfall', 'CumulativeRainfall',\n",
       "       'RainfallIntensity', 'SnowDepth3Hr', 'DailySnowDepth', 'TotalSnowDepth',\n",
       "       'CurrentWeatherCode', 'PastWeatherCode', 'WeatherCode',\n",
       "       'TotalCloudCover', 'MidLowCloudCover', 'LowestCloudHeight', 'CloudType',\n",
       "       'UpperCloudType', 'MidCloudType', 'LowCloudType', 'Visibility',\n",
       "       'SunshineDuration', 'SolarRadiation', 'GroundCondition',\n",
       "       'GroundTemperature', 'SoilTemperature5cm', 'SoilTemperature10cm',\n",
       "       'SoilTemperature20cm', 'SoilTemperature30cm', 'SeaCondition',\n",
       "       'WaveHeight', 'MaxWindForce', 'PrecipitationData', 'ObservationType'],\n",
       "      dtype='object')"
      ]
     },
     "execution_count": 14,
     "metadata": {},
     "output_type": "execute_result"
    }
   ],
   "source": [
    "df_from_s3.columns"
   ]
  },
  {
   "cell_type": "code",
   "execution_count": 15,
   "id": "140a4211",
   "metadata": {},
   "outputs": [
    {
     "name": "stdout",
     "output_type": "stream",
     "text": [
      "\n",
      "--- df.head() ---\n",
      "       ObservationTime  StationID  WindDirection  WindSpeed  GustDirection  \\\n",
      "0  2025-06-02 17:00:00        159             20        3.8            NaN   \n",
      "\n",
      "   GustSpeed  GustTime  LocalPressure  SeaLevelPressure  PressureTrend  ...  \\\n",
      "0        NaN       NaN          995.2            1003.2            NaN  ...   \n",
      "\n",
      "   GroundTemperature  SoilTemperature5cm  SoilTemperature10cm  \\\n",
      "0               21.5                22.2                 21.1   \n",
      "\n",
      "   SoilTemperature20cm  SoilTemperature30cm  SeaCondition  WaveHeight  \\\n",
      "0                 19.7                 19.5           NaN         0.5   \n",
      "\n",
      "   MaxWindForce  PrecipitationData  ObservationType  \n",
      "0           NaN                  4                1  \n",
      "\n",
      "[1 rows x 46 columns]\n"
     ]
    }
   ],
   "source": [
    "\n",
    "print(\"\\n--- df.head() ---\")\n",
    "print(df_from_s3.head())"
   ]
  },
  {
   "cell_type": "markdown",
   "id": "faae603b",
   "metadata": {},
   "source": [
    "# 16시 데이터 받아서 17시랑 비교해보자비교해보자"
   ]
  },
  {
   "cell_type": "code",
   "execution_count": null,
   "id": "49b6386c",
   "metadata": {},
   "outputs": [
    {
     "name": "stdout",
     "output_type": "stream",
     "text": [
      "S3에서 다음 파일을 읽어옵니다: s3://mlops-prj/data/weather/realtime_hourly_raw/year=2025/month=06/day=02/hour=16/data.csv\n"
     ]
    }
   ],
   "source": [
    "# 16시 데이터\n",
    "s3_bucket_name = \"mlops-prj\"\n",
    "s3_file_key = \"data/weather/realtime_hourly_raw/year=2025/month=06/day=02/hour=16/data.csv\"\n",
    "\n",
    "s3_full_path = f\"s3://{s3_bucket_name}/{s3_file_key}\"\n",
    "\n",
    "print(f\"S3에서 다음 파일을 읽어옵니다: {s3_full_path}\")"
   ]
  },
  {
   "cell_type": "code",
   "execution_count": 17,
   "id": "f091fa95",
   "metadata": {},
   "outputs": [
    {
     "name": "stdout",
     "output_type": "stream",
     "text": [
      "[성공] S3에서 CSV 파일을 성공적으로 읽었습니다!\n"
     ]
    }
   ],
   "source": [
    "# 3. CSV 파일 읽기 시도\n",
    "try:\n",
    "    df_from_s3 = pd.read_csv(s3_full_path, encoding='utf-8-sig')  # storage_options 생략 가능\n",
    "    print(\"[성공] S3에서 CSV 파일을 성공적으로 읽었습니다!\")\n",
    "except FileNotFoundError:\n",
    "    print(f\"[오류] 파일을 찾을 수 없습니다: {s3_full_path}\")\n",
    "except pd.errors.EmptyDataError:\n",
    "    print(f\"[오류] 파일이 비어있습니다: {s3_full_path}\")\n",
    "except Exception as e:\n",
    "    print(f\"[오류] S3에서 파일을 읽는 중 문제가 발생했습니다: {e}\")"
   ]
  },
  {
   "cell_type": "code",
   "execution_count": 18,
   "id": "6d7fd695",
   "metadata": {},
   "outputs": [
    {
     "name": "stdout",
     "output_type": "stream",
     "text": [
      "\n",
      "--- df.head() ---\n",
      "       ObservationTime  StationID  WindDirection  WindSpeed  GustDirection  \\\n",
      "0  2025-06-02 16:00:00        159             23        2.8            NaN   \n",
      "\n",
      "   GustSpeed  GustTime  LocalPressure  SeaLevelPressure  PressureTrend  ...  \\\n",
      "0        NaN       NaN            NaN               NaN            NaN  ...   \n",
      "\n",
      "   GroundTemperature  SoilTemperature5cm  SoilTemperature10cm  \\\n",
      "0                NaN                 NaN                  NaN   \n",
      "\n",
      "   SoilTemperature20cm  SoilTemperature30cm  SeaCondition  WaveHeight  \\\n",
      "0                  NaN                  NaN           NaN         NaN   \n",
      "\n",
      "   MaxWindForce  PrecipitationData  ObservationType  \n",
      "0           NaN                NaN              NaN  \n",
      "\n",
      "[1 rows x 46 columns]\n"
     ]
    }
   ],
   "source": [
    "print(\"\\n--- df.head() ---\")\n",
    "print(df_from_s3.head())"
   ]
  },
  {
   "cell_type": "markdown",
   "id": "e25bfd7a",
   "metadata": {},
   "source": []
  },
  {
   "cell_type": "markdown",
   "id": "69147e15",
   "metadata": {},
   "source": [
    "# S3에 저장된 버킷\n",
    "mlops-prj\n",
    "data/\n",
    "weather/\n",
    "inference/forecast_20250608_2120.parquet 열어서 확인해보기"
   ]
  },
  {
   "cell_type": "code",
   "execution_count": 9,
   "id": "22fdaf01",
   "metadata": {},
   "outputs": [
    {
     "name": "stdout",
     "output_type": "stream",
     "text": [
      "S3에서 최신 파일을 찾습니다...\n",
      "가장 최신 파일: 'data/weather/inference/forecast_20250609_0203.parquet'\n",
      "\n",
      "--- [성공] 파일 내용 확인 ---\n",
      "\n",
      "[DataFrame 정보 (info)]\n",
      "<class 'pandas.core.frame.DataFrame'>\n",
      "RangeIndex: 168 entries, 0 to 167\n",
      "Data columns (total 6 columns):\n",
      " #   Column            Non-Null Count  Dtype  \n",
      "---  ------            --------------  -----  \n",
      " 0   year              168 non-null    int64  \n",
      " 1   month             168 non-null    int64  \n",
      " 2   day               168 non-null    int64  \n",
      " 3   hour              168 non-null    int64  \n",
      " 4   day_of_week       168 non-null    object \n",
      " 5   pred_Temperature  168 non-null    float32\n",
      "dtypes: float32(1), int64(4), object(1)\n",
      "memory usage: 7.3+ KB\n",
      "\n",
      "[컬럼 목록]\n",
      "Index(['year', 'month', 'day', 'hour', 'day_of_week', 'pred_Temperature'], dtype='object')\n",
      "\n",
      "[데이터 미리보기 (head)]\n"
     ]
    },
    {
     "data": {
      "text/html": [
       "<div>\n",
       "<style scoped>\n",
       "    .dataframe tbody tr th:only-of-type {\n",
       "        vertical-align: middle;\n",
       "    }\n",
       "\n",
       "    .dataframe tbody tr th {\n",
       "        vertical-align: top;\n",
       "    }\n",
       "\n",
       "    .dataframe thead th {\n",
       "        text-align: right;\n",
       "    }\n",
       "</style>\n",
       "<table border=\"1\" class=\"dataframe\">\n",
       "  <thead>\n",
       "    <tr style=\"text-align: right;\">\n",
       "      <th></th>\n",
       "      <th>year</th>\n",
       "      <th>month</th>\n",
       "      <th>day</th>\n",
       "      <th>hour</th>\n",
       "      <th>day_of_week</th>\n",
       "      <th>pred_Temperature</th>\n",
       "    </tr>\n",
       "  </thead>\n",
       "  <tbody>\n",
       "    <tr>\n",
       "      <th>0</th>\n",
       "      <td>2025</td>\n",
       "      <td>6</td>\n",
       "      <td>9</td>\n",
       "      <td>3</td>\n",
       "      <td>Monday</td>\n",
       "      <td>20.400000</td>\n",
       "    </tr>\n",
       "    <tr>\n",
       "      <th>1</th>\n",
       "      <td>2025</td>\n",
       "      <td>6</td>\n",
       "      <td>9</td>\n",
       "      <td>4</td>\n",
       "      <td>Monday</td>\n",
       "      <td>20.200001</td>\n",
       "    </tr>\n",
       "    <tr>\n",
       "      <th>2</th>\n",
       "      <td>2025</td>\n",
       "      <td>6</td>\n",
       "      <td>9</td>\n",
       "      <td>5</td>\n",
       "      <td>Monday</td>\n",
       "      <td>19.900000</td>\n",
       "    </tr>\n",
       "    <tr>\n",
       "      <th>3</th>\n",
       "      <td>2025</td>\n",
       "      <td>6</td>\n",
       "      <td>9</td>\n",
       "      <td>6</td>\n",
       "      <td>Monday</td>\n",
       "      <td>19.600000</td>\n",
       "    </tr>\n",
       "    <tr>\n",
       "      <th>4</th>\n",
       "      <td>2025</td>\n",
       "      <td>6</td>\n",
       "      <td>9</td>\n",
       "      <td>7</td>\n",
       "      <td>Monday</td>\n",
       "      <td>19.400000</td>\n",
       "    </tr>\n",
       "  </tbody>\n",
       "</table>\n",
       "</div>"
      ],
      "text/plain": [
       "   year  month  day  hour day_of_week  pred_Temperature\n",
       "0  2025      6    9     3      Monday         20.400000\n",
       "1  2025      6    9     4      Monday         20.200001\n",
       "2  2025      6    9     5      Monday         19.900000\n",
       "3  2025      6    9     6      Monday         19.600000\n",
       "4  2025      6    9     7      Monday         19.400000"
      ]
     },
     "metadata": {},
     "output_type": "display_data"
    }
   ],
   "source": [
    "import os\n",
    "import pandas as pd\n",
    "import boto3\n",
    "from dotenv import load_dotenv\n",
    "\n",
    "env_path = '../.env' \n",
    "load_dotenv(dotenv_path=env_path)\n",
    "\n",
    "# .env 파일에서 정보 불러오기\n",
    "aws_access_key_id = os.getenv(\"AWS_ACCESS_KEY_ID\")\n",
    "aws_secret_access_key = os.getenv(\"AWS_SECRET_ACCESS_KEY\")\n",
    "bucket_name = os.getenv(\"S3_BUCKET_NAME\", \"mlops-prj\")\n",
    "prefix = \"data/weather/inference/\"\n",
    "\n",
    "# --- 코드 실행 부분 ---\n",
    "print(\"S3에서 최신 파일을 찾습니다...\")\n",
    "\n",
    "try:\n",
    "    # 1. S3 클라이언트 생성\n",
    "    s3_client = boto3.client(\n",
    "        's3',\n",
    "        aws_access_key_id=aws_access_key_id,\n",
    "        aws_secret_access_key=aws_secret_access_key,\n",
    "    )\n",
    "\n",
    "    # 2. 파일 목록 가져오기\n",
    "    response = s3_client.list_objects_v2(Bucket=bucket_name, Prefix=prefix)\n",
    "    \n",
    "    if 'Contents' not in response:\n",
    "        raise FileNotFoundError(f\"S3의 '{prefix}' 경로에 파일이 없습니다.\")\n",
    "\n",
    "    # 3. Parquet 파일만 골라서 가장 최신 파일 찾기\n",
    "    parquet_files = [obj for obj in response['Contents'] if obj['Key'].endswith('.parquet')]\n",
    "    if not parquet_files:\n",
    "        raise FileNotFoundError(f\"S3의 '{prefix}' 경로에 Parquet 파일이 없습니다.\")\n",
    "        \n",
    "    latest_file = max(parquet_files, key=lambda obj: obj['LastModified'])\n",
    "    latest_file_key = latest_file['Key']\n",
    "    \n",
    "    print(f\"가장 최신 파일: '{latest_file_key}'\")\n",
    "\n",
    "    # 4. S3 경로를 이용해 Parquet 파일 읽기\n",
    "    s3_path = f\"s3://{bucket_name}/{latest_file_key}\"\n",
    "    df = pd.read_parquet(s3_path, storage_options={\n",
    "        \"key\": aws_access_key_id,\n",
    "        \"secret\": aws_secret_access_key,\n",
    "    })\n",
    "\n",
    "    # 5. 파일 내용 확인!\n",
    "    print(\"\\n--- [성공] 파일 내용 확인 ---\")\n",
    "    \n",
    "    print(\"\\n[DataFrame 정보 (info)]\")\n",
    "    df.info()\n",
    "    \n",
    "    print(\"\\n[컬럼 목록]\")\n",
    "    print(df.columns)\n",
    "    \n",
    "    print(\"\\n[데이터 미리보기 (head)]\")\n",
    "    display(df.head()) \n",
    "\n",
    "except Exception as e:\n",
    "    print(f\"\\n--- [에러] 문제가 발생했습니다 ---\")\n",
    "    print(e)"
   ]
  },
  {
   "cell_type": "code",
   "execution_count": 10,
   "id": "b2bc14c6",
   "metadata": {},
   "outputs": [
    {
     "name": "stdout",
     "output_type": "stream",
     "text": [
      "<class 'pandas.core.frame.DataFrame'>\n",
      "RangeIndex: 168 entries, 0 to 167\n",
      "Data columns (total 6 columns):\n",
      " #   Column            Non-Null Count  Dtype  \n",
      "---  ------            --------------  -----  \n",
      " 0   year              168 non-null    int64  \n",
      " 1   month             168 non-null    int64  \n",
      " 2   day               168 non-null    int64  \n",
      " 3   hour              168 non-null    int64  \n",
      " 4   day_of_week       168 non-null    object \n",
      " 5   pred_Temperature  168 non-null    float32\n",
      "dtypes: float32(1), int64(4), object(1)\n",
      "memory usage: 7.3+ KB\n"
     ]
    }
   ],
   "source": [
    "    df.info()\n"
   ]
  },
  {
   "cell_type": "code",
   "execution_count": null,
   "id": "536e2320",
   "metadata": {},
   "outputs": [],
   "source": []
  },
  {
   "cell_type": "code",
   "execution_count": 8,
   "id": "0dd571cc",
   "metadata": {},
   "outputs": [
    {
     "data": {
      "text/html": [
       "<div>\n",
       "<style scoped>\n",
       "    .dataframe tbody tr th:only-of-type {\n",
       "        vertical-align: middle;\n",
       "    }\n",
       "\n",
       "    .dataframe tbody tr th {\n",
       "        vertical-align: top;\n",
       "    }\n",
       "\n",
       "    .dataframe thead th {\n",
       "        text-align: right;\n",
       "    }\n",
       "</style>\n",
       "<table border=\"1\" class=\"dataframe\">\n",
       "  <thead>\n",
       "    <tr style=\"text-align: right;\">\n",
       "      <th></th>\n",
       "      <th>forecast</th>\n",
       "    </tr>\n",
       "  </thead>\n",
       "  <tbody>\n",
       "    <tr>\n",
       "      <th>0</th>\n",
       "      <td>19.707748</td>\n",
       "    </tr>\n",
       "    <tr>\n",
       "      <th>1</th>\n",
       "      <td>19.435188</td>\n",
       "    </tr>\n",
       "    <tr>\n",
       "      <th>2</th>\n",
       "      <td>19.078304</td>\n",
       "    </tr>\n",
       "    <tr>\n",
       "      <th>3</th>\n",
       "      <td>18.601315</td>\n",
       "    </tr>\n",
       "    <tr>\n",
       "      <th>4</th>\n",
       "      <td>18.002335</td>\n",
       "    </tr>\n",
       "    <tr>\n",
       "      <th>...</th>\n",
       "      <td>...</td>\n",
       "    </tr>\n",
       "    <tr>\n",
       "      <th>163</th>\n",
       "      <td>25.326658</td>\n",
       "    </tr>\n",
       "    <tr>\n",
       "      <th>164</th>\n",
       "      <td>24.275976</td>\n",
       "    </tr>\n",
       "    <tr>\n",
       "      <th>165</th>\n",
       "      <td>23.456524</td>\n",
       "    </tr>\n",
       "    <tr>\n",
       "      <th>166</th>\n",
       "      <td>22.806255</td>\n",
       "    </tr>\n",
       "    <tr>\n",
       "      <th>167</th>\n",
       "      <td>22.289509</td>\n",
       "    </tr>\n",
       "  </tbody>\n",
       "</table>\n",
       "<p>168 rows × 1 columns</p>\n",
       "</div>"
      ],
      "text/plain": [
       "      forecast\n",
       "0    19.707748\n",
       "1    19.435188\n",
       "2    19.078304\n",
       "3    18.601315\n",
       "4    18.002335\n",
       "..         ...\n",
       "163  25.326658\n",
       "164  24.275976\n",
       "165  23.456524\n",
       "166  22.806255\n",
       "167  22.289509\n",
       "\n",
       "[168 rows x 1 columns]"
      ]
     },
     "execution_count": 8,
     "metadata": {},
     "output_type": "execute_result"
    }
   ],
   "source": [
    "df"
   ]
  },
  {
   "cell_type": "code",
   "execution_count": null,
   "id": "77bca202",
   "metadata": {},
   "outputs": [],
   "source": []
  },
  {
   "cell_type": "code",
   "execution_count": null,
   "id": "b9602567",
   "metadata": {},
   "outputs": [],
   "source": []
  },
  {
   "cell_type": "code",
   "execution_count": null,
   "id": "3c457dbe",
   "metadata": {},
   "outputs": [],
   "source": []
  },
  {
   "cell_type": "code",
   "execution_count": null,
   "id": "a37bf57b",
   "metadata": {},
   "outputs": [],
   "source": []
  },
  {
   "cell_type": "code",
   "execution_count": null,
   "id": "7aa34cbd",
   "metadata": {},
   "outputs": [],
   "source": []
  },
  {
   "cell_type": "code",
   "execution_count": null,
   "id": "11c20a03",
   "metadata": {},
   "outputs": [],
   "source": []
  },
  {
   "cell_type": "code",
   "execution_count": null,
   "id": "4f90aa67",
   "metadata": {},
   "outputs": [],
   "source": []
  }
 ],
 "metadata": {
  "kernelspec": {
   "display_name": "base",
   "language": "python",
   "name": "python3"
  },
  "language_info": {
   "codemirror_mode": {
    "name": "ipython",
    "version": 3
   },
   "file_extension": ".py",
   "mimetype": "text/x-python",
   "name": "python",
   "nbconvert_exporter": "python",
   "pygments_lexer": "ipython3",
   "version": "3.12.2"
  }
 },
 "nbformat": 4,
 "nbformat_minor": 5
}
